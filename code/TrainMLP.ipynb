{
 "cells": [
  {
   "cell_type": "markdown",
   "metadata": {},
   "source": [
    "# Training MLP AE\n",
    "\n",
    "What if we have neither spatial nor temporal information? Only using the node features, can we detect anomalies?"
   ]
  },
  {
   "cell_type": "code",
   "execution_count": 21,
   "metadata": {},
   "outputs": [],
   "source": [
    "import torch\n",
    "from torch_geometric.data import Data\n",
    "import numpy as np\n",
    "import matplotlib.pyplot as plt\n",
    "import pandas as pd\n",
    "import optuna\n",
    "\n",
    "from models import MLPAutoencoder\n",
    "from parameters import MLPAEParameters, TrainingParameters\n",
    "from datautils import get_morning_data, get_temporal_sequence, normalize_data, generate_edges, generate_relational_edges, load_best_parameters, get_full_data, label_anomalies\n",
    "from training import save_model, load_model, train_rstae, compute_anomaly_threshold_rstae, test_model, threshold_anomalies, fill_result_df, train_mlpae, test_mlpae\n",
    "from metrics import calculate_accuracy, crash_detection_delay, calculate_tp_fp, find_thresholds, find_delays, find_percent, discrete_fp_delays, generate_anomaly_labels, calculate_auc , discrete_fp_delays_loc\n",
    "import torch.nn as nn\n",
    "from tqdm import tqdm\n",
    "\n",
    "import random\n",
    "import os\n",
    "import torch_geometric\n",
    "seed = 42\n",
    "torch_geometric.seed_everything(seed)"
   ]
  },
  {
   "cell_type": "markdown",
   "metadata": {},
   "source": [
    "### Time Series Sequencing"
   ]
  },
  {
   "cell_type": "code",
   "execution_count": 22,
   "metadata": {},
   "outputs": [],
   "source": [
    "def sequence_mlp(data, timesteps, hide_anomalies=False):\n",
    "    sequence = []\n",
    "    days = data['day']\n",
    "    anomalies = data['anomaly']\n",
    "    data_vals = data[['occ', 'speed', 'volume']]\n",
    "    unix = data['unix_time']\n",
    "    unique_times = np.unique(data['unix_time'])\n",
    "    kept_indices = []\n",
    "\n",
    "    for index, t in enumerate(tqdm(unique_times[timesteps:])): # skip first 'timesteps'\n",
    "        data_t = []\n",
    "        backward_index = range(index-1, index-timesteps-1, -1)\n",
    "        backward_times = [unique_times[i] for i in backward_index]\n",
    "        curr_day = np.unique(data[data['unix_time']==backward_times[-1]]['day'])[0]\n",
    "        contains_anomaly = np.any([np.unique(data[data['unix_time']==i]['anomaly'])[0] for i in backward_times])\n",
    "        is_curr_day = np.all([np.unique(data[data['unix_time']==i]['day'])[0]==curr_day for i in backward_times])\n",
    "\n",
    "        if (hide_anomalies and contains_anomaly) or not is_curr_day:\n",
    "            continue\n",
    "        \n",
    "        kept_indices.append(index+timesteps)\n",
    "\n",
    "        for i in backward_times:\n",
    "            data_t.append(data[data['unix_time']==i][['occ', 'speed', 'volume']].to_numpy()) # assumes time indices come sequentially, with full data it may not\n",
    "\n",
    "        combined = np.array(data_t)\n",
    "        combined = np.swapaxes(combined, 0, 1)\n",
    "        combined = torch.tensor(combined, dtype=torch.float32)\n",
    "        \n",
    "        curr_data = combined[:,-1,:]\n",
    "        sequence.append([combined, curr_data])\n",
    "\n",
    "    return sequence, kept_indices"
   ]
  },
  {
   "cell_type": "markdown",
   "metadata": {},
   "source": [
    "### Loading Hyperparameters"
   ]
  },
  {
   "cell_type": "code",
   "execution_count": 23,
   "metadata": {},
   "outputs": [],
   "source": [
    "mse_weights = [1,1,1] # weights for loss function (occupancy, speed, volume)"
   ]
  },
  {
   "cell_type": "code",
   "execution_count": 24,
   "metadata": {},
   "outputs": [],
   "source": [
    "hide_anomalies = False\n",
    "optimal_hyperparams = load_best_parameters('mlp',hide_anomalies=hide_anomalies)"
   ]
  },
  {
   "cell_type": "code",
   "execution_count": 25,
   "metadata": {},
   "outputs": [],
   "source": [
    "training_params = TrainingParameters( \n",
    "    learning_rate=optimal_hyperparams['learning_rate'],\n",
    "    batch_size=1,\n",
    "    timesteps=1,\n",
    "    n_epochs=optimal_hyperparams['epochs'],\n",
    ")"
   ]
  },
  {
   "cell_type": "code",
   "execution_count": 26,
   "metadata": {},
   "outputs": [],
   "source": [
    "hyperparams =MLPAEParameters(\n",
    "    num_features=3,\n",
    "    latent_dim=2,\n",
    "    hidden_dim=optimal_hyperparams['hidden_dim'],\n",
    ")"
   ]
  },
  {
   "cell_type": "code",
   "execution_count": 27,
   "metadata": {},
   "outputs": [
    {
     "name": "stderr",
     "output_type": "stream",
     "text": [
      "100%|██████████| 10559/10559 [00:17<00:00, 594.52it/s]\n",
      "100%|██████████| 2879/2879 [00:02<00:00, 1101.80it/s]\n"
     ]
    }
   ],
   "source": [
    "data, test_data, _ = get_full_data()\n",
    "data = normalize_data(data)\n",
    "data = label_anomalies(data)\n",
    "length = len(data.day.unique())\n",
    "train_length = int(length * 0.8)\n",
    "val_length = length - train_length\n",
    "train_days = data.day.unique()[:train_length]\n",
    "val_days = data.day.unique()[train_length:]\n",
    "\n",
    "# Use .isin() to filter the DataFrame based on the days\n",
    "train_data = data[data.day.isin(train_days)]\n",
    "val_data = data[data.day.isin(val_days)]\n",
    "train_sequence, kept_train_indices = sequence_mlp(train_data, training_params.timesteps, hide_anomalies=hide_anomalies)\n",
    "val_sequence, kept_val_indices = sequence_mlp(val_data, training_params.timesteps, hide_anomalies=hide_anomalies)"
   ]
  },
  {
   "cell_type": "code",
   "execution_count": 28,
   "metadata": {},
   "outputs": [],
   "source": [
    "# ae = MLPAutoencoder(hyperparams)"
   ]
  },
  {
   "cell_type": "markdown",
   "metadata": {},
   "source": [
    "### Model Training or Loading"
   ]
  },
  {
   "cell_type": "code",
   "execution_count": 29,
   "metadata": {},
   "outputs": [],
   "source": [
    "using_pretrained = True"
   ]
  },
  {
   "cell_type": "code",
   "execution_count": 30,
   "metadata": {},
   "outputs": [],
   "source": [
    "if not using_pretrained:\n",
    "    ae, losses = train_mlpae(params=hyperparams, trainingparams=training_params, training_data=train_sequence, mse_weights=mse_weights, verbose=True)\n",
    "    save_model(ae, f'mlpae_{hide_anomalies}_{seed}')\n",
    "else:\n",
    "    ae = load_model(MLPAutoencoder, hyperparams,  f'mlpae_{hide_anomalies}_{seed}')"
   ]
  },
  {
   "cell_type": "code",
   "execution_count": 31,
   "metadata": {},
   "outputs": [],
   "source": [
    "if not using_pretrained:\n",
    "    plt.plot(losses)"
   ]
  },
  {
   "cell_type": "markdown",
   "metadata": {},
   "source": [
    "### Computing Node-level Anomaly Threshold"
   ]
  },
  {
   "cell_type": "code",
   "execution_count": 32,
   "metadata": {},
   "outputs": [],
   "source": [
    "from training import compute_anomaly_threshold_mlpae"
   ]
  },
  {
   "cell_type": "code",
   "execution_count": 33,
   "metadata": {},
   "outputs": [
    {
     "name": "stderr",
     "output_type": "stream",
     "text": [
      "100%|██████████| 2879/2879 [00:00<00:00, 20125.27it/s]\n"
     ]
    }
   ],
   "source": [
    "thresh = compute_anomaly_threshold_mlpae(val_sequence, ae, mse_weights, 'max')"
   ]
  },
  {
   "cell_type": "markdown",
   "metadata": {},
   "source": [
    "### Loading Test Data"
   ]
  },
  {
   "cell_type": "code",
   "execution_count": 34,
   "metadata": {},
   "outputs": [],
   "source": [
    "_, df_test_data, _ = get_full_data()"
   ]
  },
  {
   "cell_type": "code",
   "execution_count": 35,
   "metadata": {},
   "outputs": [
    {
     "name": "stderr",
     "output_type": "stream",
     "text": [
      "100%|██████████| 4799/4799 [00:05<00:00, 831.08it/s]\n"
     ]
    }
   ],
   "source": [
    "test_data = normalize_data(df_test_data)\n",
    "test_data = label_anomalies(test_data)\n",
    "test_data, kept_test_indices = sequence_mlp(test_data, training_params.timesteps, hide_anomalies=False)"
   ]
  },
  {
   "cell_type": "code",
   "execution_count": 36,
   "metadata": {},
   "outputs": [],
   "source": [
    "test_errors, test_recons_speeds, test_true_speeds = test_mlpae(test_data, mse_weights, ae)"
   ]
  },
  {
   "cell_type": "code",
   "execution_count": 37,
   "metadata": {},
   "outputs": [],
   "source": [
    "test_recons_speeds = test_recons_speeds.squeeze()"
   ]
  },
  {
   "cell_type": "code",
   "execution_count": 38,
   "metadata": {},
   "outputs": [
    {
     "name": "stderr",
     "output_type": "stream",
     "text": [
      "/media/vanderbilt/home/zulqarnain/freeway-anomaly-detection/code/metrics.py:18: SettingWithCopyWarning: \n",
      "A value is trying to be set on a copy of a slice from a DataFrame.\n",
      "Try using .loc[row_indexer,col_indexer] = value instead\n",
      "\n",
      "See the caveats in the documentation: https://pandas.pydata.org/pandas-docs/stable/user_guide/indexing.html#returning-a-view-versus-a-copy\n",
      "  test_data.loc[(test_data['unix_time'] - human_label_time <= 1800) & (test_data['unix_time'] - human_label_time >= 0), 'anomaly'] = 1\n",
      "/media/vanderbilt/home/zulqarnain/freeway-anomaly-detection/code/metrics.py:28: SettingWithCopyWarning: \n",
      "A value is trying to be set on a copy of a slice from a DataFrame\n",
      "\n",
      "See the caveats in the documentation: https://pandas.pydata.org/pandas-docs/stable/user_guide/indexing.html#returning-a-view-versus-a-copy\n",
      "  test_data.fillna(0, inplace=True)\n"
     ]
    }
   ],
   "source": [
    "# Compute true anomaly labels\n",
    "anomaly_labels = generate_anomaly_labels(df_test_data, kept_test_indices)\n",
    "\n",
    "# Whether a crash was reported at each time\n",
    "# crash_reported = df_test_data['crash_record'].to_numpy()[0::196][kept_test_indices]"
   ]
  },
  {
   "cell_type": "code",
   "execution_count": 39,
   "metadata": {},
   "outputs": [
    {
     "name": "stderr",
     "output_type": "stream",
     "text": [
      "/tmp/ipykernel_1385903/3884504702.py:6: SettingWithCopyWarning: \n",
      "A value is trying to be set on a copy of a slice from a DataFrame.\n",
      "Try using .loc[row_indexer,col_indexer] = value instead\n",
      "\n",
      "See the caveats in the documentation: https://pandas.pydata.org/pandas-docs/stable/user_guide/indexing.html#returning-a-view-versus-a-copy\n",
      "  df_test_data['Time']=converted_dates_naive\n",
      "/tmp/ipykernel_1385903/3884504702.py:50: SettingWithCopyWarning: \n",
      "A value is trying to be set on a copy of a slice from a DataFrame.\n",
      "Try using .loc[row_indexer,col_indexer] = value instead\n",
      "\n",
      "See the caveats in the documentation: https://pandas.pydata.org/pandas-docs/stable/user_guide/indexing.html#returning-a-view-versus-a-copy\n",
      "  test_events['Time'] = pd.to_datetime(test_events['Time'])\n",
      "/tmp/ipykernel_1385903/3884504702.py:52: SettingWithCopyWarning: \n",
      "A value is trying to be set on a copy of a slice from a DataFrame.\n",
      "Try using .loc[row_indexer,col_indexer] = value instead\n",
      "\n",
      "See the caveats in the documentation: https://pandas.pydata.org/pandas-docs/stable/user_guide/indexing.html#returning-a-view-versus-a-copy\n",
      "  df_test_data['combined'] = df_test_data['Time'].astype(str) + '_' + df_test_data['milemarker'].astype(str)\n",
      "/tmp/ipykernel_1385903/3884504702.py:53: SettingWithCopyWarning: \n",
      "A value is trying to be set on a copy of a slice from a DataFrame.\n",
      "Try using .loc[row_indexer,col_indexer] = value instead\n",
      "\n",
      "See the caveats in the documentation: https://pandas.pydata.org/pandas-docs/stable/user_guide/indexing.html#returning-a-view-versus-a-copy\n",
      "  test_events['combined'] = test_events['Time'].astype(str) + '_' + test_events['mapped_milemarkers'].astype(str)\n",
      "/tmp/ipykernel_1385903/3884504702.py:55: SettingWithCopyWarning: \n",
      "A value is trying to be set on a copy of a slice from a DataFrame.\n",
      "Try using .loc[row_indexer,col_indexer] = value instead\n",
      "\n",
      "See the caveats in the documentation: https://pandas.pydata.org/pandas-docs/stable/user_guide/indexing.html#returning-a-view-versus-a-copy\n",
      "  df_test_data['exists'] = df_test_data['combined'].isin(test_events['combined']).astype(int)\n",
      "/tmp/ipykernel_1385903/3884504702.py:56: SettingWithCopyWarning: \n",
      "A value is trying to be set on a copy of a slice from a DataFrame.\n",
      "Try using .loc[row_indexer,col_indexer] = value instead\n",
      "\n",
      "See the caveats in the documentation: https://pandas.pydata.org/pandas-docs/stable/user_guide/indexing.html#returning-a-view-versus-a-copy\n",
      "  df_test_data['crash_record']=((df_test_data['exists'] == 1) & (df_test_data['crash_record'] == 1)\n"
     ]
    }
   ],
   "source": [
    "converted_dates_utc = pd.to_datetime(df_test_data.unix_time, unit='s', utc=True)\n",
    "\n",
    "# Step 2: Convert to US/Central timezone\n",
    "converted_dates_central = converted_dates_utc.dt.tz_convert('US/Central')\n",
    "converted_dates_naive = converted_dates_central.dt.tz_localize(None)\n",
    "df_test_data['Time']=converted_dates_naive\n",
    "\n",
    "import glob\n",
    "pattern=sorted(glob.glob('../data/event_data/2023-10-*.csv'))\n",
    "events=pd.DataFrame()\n",
    "for i in pattern:\n",
    "    event=pd.read_csv(i,sep=';')\n",
    "    events=pd.concat([events,event],axis=0)\n",
    "events.reset_index(drop=True,inplace=True)\n",
    "# events['timestamp']=pd.to_datetime(events['event_update_time'],utc=False)\n",
    "events['Time'] = pd.to_datetime(events['event_update_time'], utc=False)\n",
    "\n",
    "# To ensure the timestamps are naive (no timezone)\n",
    "events['Time'] = events['Time'].dt.tz_localize(None).dt.floor('1s').dt.ceil('30s')\n",
    "events=events[(events['event_update_type'] == 'new') & (events['classification']=='incident')]\n",
    "events.drop_duplicates(subset=['event_id'],inplace=True)\n",
    "events=events.sort_values(by='Time').reset_index(drop=True)\n",
    "\n",
    "\n",
    "array1=np.array(events.milemarker.sort_values().unique())\n",
    "array2=np.array(df_test_data.milemarker.unique())\n",
    "def find_closest_or_exact(target, array):\n",
    "    # Find the indices where the target would fit\n",
    "    idx = np.searchsorted(array, target)\n",
    "    \n",
    "    # Check for exact match\n",
    "    if idx < len(array) and array[idx] == target:\n",
    "        return array[idx]  # Exact match\n",
    "    \n",
    "    # Find the closest lower value (if it exists)\n",
    "    lower = array[idx - 1] if idx > 0 else None\n",
    "    \n",
    "    # Find the closest higher value (if it exists)\n",
    "    higher = array[idx] if idx < len(array) else None\n",
    "    \n",
    "    return [lower, higher]\n",
    "\n",
    "# Mapping from array2 to closest values in array1\n",
    "events['mapped_milemarkers'] = events['milemarker'].apply(lambda x: find_closest_or_exact(x, array2))\n",
    "events=events.explode('mapped_milemarkers')\n",
    "# Filter events based on Time in df_test_data\n",
    "test_events = events[events['Time'].isin(df_test_data['Time'])]\n",
    "\n",
    "# Ensure 'Time' in test_events is properly converted to pandas.Timestamp\n",
    "test_events['Time'] = pd.to_datetime(test_events['Time'])\n",
    "\n",
    "df_test_data['combined'] = df_test_data['Time'].astype(str) + '_' + df_test_data['milemarker'].astype(str)\n",
    "test_events['combined'] = test_events['Time'].astype(str) + '_' + test_events['mapped_milemarkers'].astype(str)\n",
    "\n",
    "df_test_data['exists'] = df_test_data['combined'].isin(test_events['combined']).astype(int)\n",
    "df_test_data['crash_record']=((df_test_data['exists'] == 1) & (df_test_data['crash_record'] == 1)\n",
    ").astype(int)\n",
    "crash_reported=df_test_data['crash_record'].to_numpy().reshape(-1,196)[kept_test_indices]\n",
    "\n"
   ]
  },
  {
   "cell_type": "code",
   "execution_count": 40,
   "metadata": {},
   "outputs": [
    {
     "name": "stderr",
     "output_type": "stream",
     "text": [
      "100%|██████████| 1000/1000 [00:28<00:00, 35.57it/s]"
     ]
    },
    {
     "name": "stdout",
     "output_type": "stream",
     "text": [
      "Found FPR of 0.00980392156862745 for 0.01\n",
      "Found FPR of 0.024509803921568627 for 0.025\n",
      "Found FPR of 0.0494281045751634 for 0.05\n",
      "Found FPR of 0.0988562091503268 for 0.1\n",
      "Found FPR of 0.198937908496732 for 0.2\n",
      "FPR 1% gives mean delay of -3.125 +/- 7.179615240387189 with mean. distance of 1.1666666666666667 +/- 1.0628839175668348 while missing 0.6%.\n",
      "FPR 2.5% gives mean delay of -5.0 +/- 9.027735042633894 with mean. distance of 1.8666666666666665 +/- 1.3951304200284962 while missing 0.6%.\n",
      "FPR 5% gives mean delay of -3.3 +/- 8.795453370918407 with mean. distance of 3.966666666666667 +/- 2.876726534718855 while missing 0.5%.\n",
      "FPR 10% gives mean delay of -7.285714285714286 +/- 7.30389887495098 with mean. distance of 3.295833333333333 +/- 3.570624264591401 while missing 0.30000000000000004%.\n",
      "FPR 20% gives mean delay of -12.75 +/- 3.5355339059327378 with mean. distance of 3.392307692307692 +/- 3.8692498852563406 while missing 0.19999999999999996%.\n"
     ]
    },
    {
     "name": "stderr",
     "output_type": "stream",
     "text": [
      "\n"
     ]
    }
   ],
   "source": [
    "path_results = 'saved_results/mlp/'\n",
    "results = discrete_fp_delays_loc(thresh, test_errors, anomaly_labels, crash_reported)\n",
    "\n",
    "# Check if the directory exists, and create it if it does not\n",
    "if not os.path.exists(path_results):\n",
    "    os.makedirs(path_results)\n",
    "\n",
    "# Save the results to a CSV file\n",
    "# results.to_csv(f'{path_results}results_{hide_anomalies}_{seed}.csv', index=False)"
   ]
  },
  {
   "cell_type": "code",
   "execution_count": 41,
   "metadata": {},
   "outputs": [
    {
     "data": {
      "text/plain": [
       "0.6204245844428306"
      ]
     },
     "execution_count": 41,
     "metadata": {},
     "output_type": "execute_result"
    }
   ],
   "source": [
    "calculate_auc(test_errors,anomaly_labels)"
   ]
  },
  {
   "cell_type": "markdown",
   "metadata": {},
   "source": [
    "### Compute FPR / Crash Detection Delay Tradeoff"
   ]
  },
  {
   "cell_type": "code",
   "execution_count": 20,
   "metadata": {},
   "outputs": [
    {
     "data": {
      "text/plain": [
       "(4799, 196)"
      ]
     },
     "execution_count": 20,
     "metadata": {},
     "output_type": "execute_result"
    }
   ],
   "source": [
    "test_errors.shape"
   ]
  },
  {
   "cell_type": "code",
   "execution_count": 21,
   "metadata": {},
   "outputs": [
    {
     "name": "stderr",
     "output_type": "stream",
     "text": [
      "  9%|▊         | 86/1000 [00:06<01:07, 13.44it/s]\n"
     ]
    },
    {
     "ename": "KeyboardInterrupt",
     "evalue": "",
     "output_type": "error",
     "traceback": [
      "\u001b[0;31m---------------------------------------------------------------------------\u001b[0m",
      "\u001b[0;31mKeyboardInterrupt\u001b[0m                         Traceback (most recent call last)",
      "Cell \u001b[0;32mIn[21], line 1\u001b[0m\n\u001b[0;32m----> 1\u001b[0m delay_results \u001b[38;5;241m=\u001b[39m np\u001b[38;5;241m.\u001b[39marray(find_delays(thresh, test_errors, anomaly_labels, crash_reported))\n",
      "File \u001b[0;32m~/work/freeway-anomaly-detection/code/metrics.py:172\u001b[0m, in \u001b[0;36mfind_delays\u001b[0;34m(thresh, errors, anomaly_labels, crash_reported, changed_sr, sr)\u001b[0m\n\u001b[1;32m    170\u001b[0m \u001b[38;5;28;01mdef\u001b[39;00m \u001b[38;5;21mfind_delays\u001b[39m(thresh, errors, anomaly_labels, crash_reported, changed_sr\u001b[38;5;241m=\u001b[39m\u001b[38;5;28;01mFalse\u001b[39;00m, sr\u001b[38;5;241m=\u001b[39m\u001b[38;5;241m0.5\u001b[39m):\n\u001b[1;32m    171\u001b[0m     results \u001b[38;5;241m=\u001b[39m []\n\u001b[0;32m--> 172\u001b[0m     thresholds \u001b[38;5;241m=\u001b[39m np\u001b[38;5;241m.\u001b[39marray(find_thresholds(thresh, errors, anomaly_labels, changed_sr))\n\u001b[1;32m    173\u001b[0m     all_fp_indices \u001b[38;5;241m=\u001b[39m np\u001b[38;5;241m.\u001b[39mwhere(thresholds[:,\u001b[38;5;241m0\u001b[39m] \u001b[38;5;241m==\u001b[39m \u001b[38;5;241m1\u001b[39m)[\u001b[38;5;241m0\u001b[39m]\n\u001b[1;32m    174\u001b[0m     all_fp_index \u001b[38;5;241m=\u001b[39m all_fp_indices[\u001b[38;5;241m-\u001b[39m\u001b[38;5;241m1\u001b[39m] \u001b[38;5;28;01mif\u001b[39;00m \u001b[38;5;28mlen\u001b[39m(all_fp_indices) \u001b[38;5;241m>\u001b[39m \u001b[38;5;241m0\u001b[39m \u001b[38;5;28;01melse\u001b[39;00m \u001b[38;5;28;01mNone\u001b[39;00m\n",
      "File \u001b[0;32m~/work/freeway-anomaly-detection/code/metrics.py:278\u001b[0m, in \u001b[0;36mfind_thresholds\u001b[0;34m(thresh, errors, anomaly_labels, changed_sr)\u001b[0m\n\u001b[1;32m    276\u001b[0m \u001b[38;5;28;01mfor\u001b[39;00m i \u001b[38;5;129;01min\u001b[39;00m tqdm(thresh_range):\n\u001b[1;32m    277\u001b[0m     anomaly_pred \u001b[38;5;241m=\u001b[39m threshold_anomalies(thresh\u001b[38;5;241m+\u001b[39mi, errors)\n\u001b[0;32m--> 278\u001b[0m     tpr, fpr \u001b[38;5;241m=\u001b[39m calculate_tp_fp(anomaly_pred, anomaly_labels)\n\u001b[1;32m    279\u001b[0m     results\u001b[38;5;241m.\u001b[39mappend([fpr, i])\n\u001b[1;32m    281\u001b[0m \u001b[38;5;28;01mreturn\u001b[39;00m results\n",
      "File \u001b[0;32m~/work/freeway-anomaly-detection/code/metrics.py:223\u001b[0m, in \u001b[0;36mcalculate_tp_fp\u001b[0;34m(anomaly_pred, anomaly_labels)\u001b[0m\n\u001b[1;32m    221\u001b[0m true_vals \u001b[38;5;241m=\u001b[39m anomaly_labels[i:i\u001b[38;5;241m+\u001b[39mnum_nodes]\n\u001b[1;32m    222\u001b[0m actually_anomaly \u001b[38;5;241m=\u001b[39m np\u001b[38;5;241m.\u001b[39mall(true_vals\u001b[38;5;241m==\u001b[39m\u001b[38;5;241m1\u001b[39m)\n\u001b[0;32m--> 223\u001b[0m \u001b[38;5;28;01mif\u001b[39;00m np\u001b[38;5;241m.\u001b[39many(true_vals\u001b[38;5;241m==\u001b[39m\u001b[38;5;241m-\u001b[39m\u001b[38;5;241m1\u001b[39m):\n\u001b[1;32m    224\u001b[0m     \u001b[38;5;28;01mcontinue\u001b[39;00m \n\u001b[1;32m    225\u001b[0m \u001b[38;5;28;01mif\u001b[39;00m predicted_anomaly \u001b[38;5;129;01mand\u001b[39;00m actually_anomaly:\n",
      "File \u001b[0;32m<__array_function__ internals>:180\u001b[0m, in \u001b[0;36many\u001b[0;34m(*args, **kwargs)\u001b[0m\n",
      "File \u001b[0;32m~/anaconda3/envs/traffic-anomaly/lib/python3.11/site-packages/numpy/core/fromnumeric.py:2328\u001b[0m, in \u001b[0;36m_any_dispatcher\u001b[0;34m(a, axis, out, keepdims, where)\u001b[0m\n\u001b[1;32m   2322\u001b[0m         \u001b[38;5;28;01mreturn\u001b[39;00m res\n\u001b[1;32m   2324\u001b[0m     \u001b[38;5;28;01mreturn\u001b[39;00m _wrapreduction(a, np\u001b[38;5;241m.\u001b[39madd, \u001b[38;5;124m'\u001b[39m\u001b[38;5;124msum\u001b[39m\u001b[38;5;124m'\u001b[39m, axis, dtype, out, keepdims\u001b[38;5;241m=\u001b[39mkeepdims,\n\u001b[1;32m   2325\u001b[0m                           initial\u001b[38;5;241m=\u001b[39minitial, where\u001b[38;5;241m=\u001b[39mwhere)\n\u001b[0;32m-> 2328\u001b[0m \u001b[38;5;28;01mdef\u001b[39;00m \u001b[38;5;21m_any_dispatcher\u001b[39m(a, axis\u001b[38;5;241m=\u001b[39m\u001b[38;5;28;01mNone\u001b[39;00m, out\u001b[38;5;241m=\u001b[39m\u001b[38;5;28;01mNone\u001b[39;00m, keepdims\u001b[38;5;241m=\u001b[39m\u001b[38;5;28;01mNone\u001b[39;00m, \u001b[38;5;241m*\u001b[39m,\n\u001b[1;32m   2329\u001b[0m                     where\u001b[38;5;241m=\u001b[39mnp\u001b[38;5;241m.\u001b[39m_NoValue):\n\u001b[1;32m   2330\u001b[0m     \u001b[38;5;28;01mreturn\u001b[39;00m (a, where, out)\n\u001b[1;32m   2333\u001b[0m \u001b[38;5;129m@array_function_dispatch\u001b[39m(_any_dispatcher)\n\u001b[1;32m   2334\u001b[0m \u001b[38;5;28;01mdef\u001b[39;00m \u001b[38;5;21many\u001b[39m(a, axis\u001b[38;5;241m=\u001b[39m\u001b[38;5;28;01mNone\u001b[39;00m, out\u001b[38;5;241m=\u001b[39m\u001b[38;5;28;01mNone\u001b[39;00m, keepdims\u001b[38;5;241m=\u001b[39mnp\u001b[38;5;241m.\u001b[39m_NoValue, \u001b[38;5;241m*\u001b[39m, where\u001b[38;5;241m=\u001b[39mnp\u001b[38;5;241m.\u001b[39m_NoValue):\n",
      "\u001b[0;31mKeyboardInterrupt\u001b[0m: "
     ]
    }
   ],
   "source": [
    "delay_results = np.array(find_delays(thresh, test_errors, anomaly_labels, crash_reported))"
   ]
  },
  {
   "cell_type": "code",
   "execution_count": null,
   "metadata": {},
   "outputs": [],
   "source": [
    "delay_df = pd.DataFrame(delay_results, columns=['FPR', 'Mean Delay', 'Std Delay', 'Found Percent'])\n",
    "delay_df.to_csv('./saved_results/mlpae_fp_delay.csv')"
   ]
  },
  {
   "cell_type": "code",
   "execution_count": null,
   "metadata": {},
   "outputs": [
    {
     "data": {
      "image/png": "[encoded data removed]",
      "text/plain": [
       "<Figure size 640x480 with 1 Axes>"
      ]
     },
     "metadata": {},
     "output_type": "display_data"
    }
   ],
   "source": [
    "x_values = delay_df['FPR']\n",
    "y_values = delay_df['Mean Delay'] / 2\n",
    "std_values = delay_df['Std Delay'] / 2\n",
    "\n",
    "plt.plot(x_values, y_values, color='blue', label='RSTAE', marker='x')\n",
    "\n",
    "lower_bound = y_values - std_values  # 1.96 is the z-score for 95% confidence interval\n",
    "upper_bound = y_values + std_values\n",
    "\n",
    "plt.fill_between(x_values, lower_bound, upper_bound, color='blue', alpha=0.2)\n",
    "plt.ylim(-16, 16)\n",
    "# plt.xlim(-0.01,1)\n",
    "plt.xlabel(\"False Positive Rate (%)\")\n",
    "plt.ylabel(\"Detection Delay (min)\")\n",
    "plt.title(\"Crash Detection and False Positive Tradeoff\")\n",
    "plt.legend()\n",
    "plt.show()"
   ]
  },
  {
   "cell_type": "code",
   "execution_count": null,
   "metadata": {},
   "outputs": [
    {
     "name": "stderr",
     "output_type": "stream",
     "text": [
      "  0%|          | 4/1000 [00:00<00:30, 32.86it/s]"
     ]
    },
    {
     "name": "stderr",
     "output_type": "stream",
     "text": [
      "100%|██████████| 1000/1000 [00:28<00:00, 34.90it/s]"
     ]
    },
    {
     "name": "stdout",
     "output_type": "stream",
     "text": [
      "Found FPR of 0.010620915032679739 for 0.01\n",
      "Found FPR of 0.024918300653594773 for 0.025\n",
      "Found FPR of 0.049019607843137254 for 0.05\n",
      "Found FPR of 0.09967320261437909 for 0.1\n",
      "Found FPR of 0.20016339869281047 for 0.2\n",
      "FPR 1% gives mean delay of -4.0 +/- 12.083045973594572 while missing 0.75%.\n",
      "FPR 2.5% gives mean delay of 2.5 +/- 12.296340919151518 while missing 0.5833333333333333%.\n",
      "FPR 5% gives mean delay of 2.5 +/- 12.296340919151518 while missing 0.5833333333333333%.\n",
      "FPR 10% gives mean delay of -3.9444444444444446 +/- 9.337631285539784 while missing 0.25%.\n",
      "FPR 20% gives mean delay of -10.05 +/- 7.837250793486196 while missing 0.16666666666666663%.\n"
     ]
    },
    {
     "name": "stderr",
     "output_type": "stream",
     "text": [
      "\n"
     ]
    }
   ],
   "source": [
    "discrete_fp_delays(thresh, test_errors, anomaly_labels, crash_reported)"
   ]
  },
  {
   "cell_type": "markdown",
   "metadata": {},
   "source": [
    "### Compute AUC"
   ]
  },
  {
   "cell_type": "code",
   "execution_count": 20,
   "metadata": {},
   "outputs": [
    {
     "data": {
      "text/plain": [
       "0.6330022492536109"
      ]
     },
     "execution_count": 20,
     "metadata": {},
     "output_type": "execute_result"
    }
   ],
   "source": [
    "calculate_auc(test_errors, anomaly_labels)"
   ]
  },
  {
   "cell_type": "markdown",
   "metadata": {},
   "source": [
    "### Copmute Detection Delay Histogram on Full Dataset"
   ]
  },
  {
   "cell_type": "code",
   "execution_count": null,
   "metadata": {},
   "outputs": [],
   "source": [
    "_, _, full_data = get_full_data()\n",
    "full_data = normalize_data(full_data)\n",
    "full_data = label_anomalies(full_data)"
   ]
  },
  {
   "cell_type": "code",
   "execution_count": null,
   "metadata": {},
   "outputs": [
    {
     "name": "stderr",
     "output_type": "stream",
     "text": [
      "  0%|          | 38/18239 [00:00<00:48, 372.23it/s]"
     ]
    },
    {
     "name": "stderr",
     "output_type": "stream",
     "text": [
      "100%|██████████| 18239/18239 [00:47<00:00, 382.23it/s]\n"
     ]
    }
   ],
   "source": [
    "full_sequence, kept_full_indices = sequence_mlp(full_data, training_params.timesteps, hide_anomalies=False)"
   ]
  },
  {
   "cell_type": "code",
   "execution_count": null,
   "metadata": {},
   "outputs": [],
   "source": [
    "full_errors, _, _ = test_mlpae(full_sequence, mse_weights, ae)"
   ]
  },
  {
   "cell_type": "code",
   "execution_count": null,
   "metadata": {},
   "outputs": [
    {
     "name": "stderr",
     "output_type": "stream",
     "text": [
      "/media/vanderbilt/home/zulqarnain/freeway-anomaly-detection/code/metrics.py:28: SettingWithCopyWarning: \n",
      "A value is trying to be set on a copy of a slice from a DataFrame\n",
      "\n",
      "See the caveats in the documentation: https://pandas.pydata.org/pandas-docs/stable/user_guide/indexing.html#returning-a-view-versus-a-copy\n",
      "  test_data.fillna(0, inplace=True)\n"
     ]
    }
   ],
   "source": [
    "full_anomalies = generate_anomaly_labels(full_data, kept_full_indices)\n",
    "crash_reported = full_data['crash_record'].to_numpy()[0::196][kept_full_indices]"
   ]
  },
  {
   "cell_type": "code",
   "execution_count": null,
   "metadata": {},
   "outputs": [
    {
     "name": "stderr",
     "output_type": "stream",
     "text": [
      "100%|██████████| 1000/1000 [01:52<00:00,  8.91it/s]\n"
     ]
    }
   ],
   "source": [
    "full_thresholds = find_thresholds(thresh, full_errors, full_anomalies)"
   ]
  },
  {
   "cell_type": "code",
   "execution_count": null,
   "metadata": {},
   "outputs": [
    {
     "name": "stdout",
     "output_type": "stream",
     "text": [
      "Found FPR of 0.10123799606618072 for 0.1\n"
     ]
    }
   ],
   "source": [
    "offset = find_percent(full_thresholds, 10)\n",
    "full_anomaly_pred = threshold_anomalies(thresh+offset, full_errors)\n"
   ]
  },
  {
   "cell_type": "code",
   "execution_count": null,
   "metadata": {},
   "outputs": [],
   "source": [
    "delay, found = crash_detection_delay(full_anomaly_pred, crash_reported)"
   ]
  },
  {
   "cell_type": "code",
   "execution_count": null,
   "metadata": {},
   "outputs": [
    {
     "data": {
      "text/plain": [
       "<matplotlib.legend.Legend at 0x7205dc305f50>"
      ]
     },
     "execution_count": 36,
     "metadata": {},
     "output_type": "execute_result"
    },
    {
     "data": {
      "image/png": "[encoded data removed]",
      "text/plain": [
       "<Figure size 640x480 with 1 Axes>"
      ]
     },
     "metadata": {},
     "output_type": "display_data"
    }
   ],
   "source": [
    "import seaborn as sns \n",
    "\n",
    "delay = delay + [30] * (len(found) - np.count_nonzero(found))\n",
    "\n",
    "sns.histplot(np.array(delay)/2, binwidth=1, alpha=0.5, label='rstae')\n",
    "plt.legend()"
   ]
  },
  {
   "cell_type": "code",
   "execution_count": null,
   "metadata": {},
   "outputs": [],
   "source": [
    "np.save('./saved_results/mlpae10delays.npy', np.array(delay)/2)"
   ]
  },
  {
   "cell_type": "code",
   "execution_count": null,
   "metadata": {},
   "outputs": [],
   "source": [
    "_, df_clean_test_data, _ = get_full_data()"
   ]
  },
  {
   "cell_type": "code",
   "execution_count": null,
   "metadata": {},
   "outputs": [
    {
     "name": "stderr",
     "output_type": "stream",
     "text": [
      "  8%|▊         | 380/4799 [00:00<00:04, 1039.18it/s]"
     ]
    },
    {
     "name": "stderr",
     "output_type": "stream",
     "text": [
      "100%|██████████| 4799/4799 [00:04<00:00, 1121.35it/s]\n"
     ]
    }
   ],
   "source": [
    "clean_test_data = normalize_data(df_clean_test_data)\n",
    "clean_test_data = label_anomalies(clean_test_data)\n",
    "clean_test_data, kept_test_indices = sequence_mlp(clean_test_data, training_params.timesteps, hide_anomalies=True)"
   ]
  },
  {
   "cell_type": "code",
   "execution_count": null,
   "metadata": {},
   "outputs": [],
   "source": [
    "clean_test_errors, test_recons_speeds, test_true_speeds = test_mlpae(clean_test_data, mse_weights, ae)"
   ]
  },
  {
   "cell_type": "code",
   "execution_count": null,
   "metadata": {},
   "outputs": [
    {
     "data": {
      "text/plain": [
       "0.014061105"
      ]
     },
     "execution_count": 41,
     "metadata": {},
     "output_type": "execute_result"
    }
   ],
   "source": [
    "np.mean(clean_test_errors)"
   ]
  },
  {
   "cell_type": "code",
   "execution_count": null,
   "metadata": {},
   "outputs": [],
   "source": [
    "# data = fill_result_df(anomalies_10, test_true_speeds, test_recons_speeds, training_params.timesteps)"
   ]
  },
  {
   "cell_type": "code",
   "execution_count": null,
   "metadata": {},
   "outputs": [],
   "source": [
    "# data.to_csv('./saved_results/full_results_test_transformerae.csv')"
   ]
  },
  {
   "cell_type": "code",
   "execution_count": null,
   "metadata": {},
   "outputs": [],
   "source": [
    "# import pandas as pd\n",
    "# import matplotlib.pyplot as plt\n",
    "# import matplotlib.dates as mdates\n",
    "\n",
    "# data = pd.read_csv('./saved_results/full_results_test_transformerae.csv', index_col=0)\n",
    "# data['Time Index'] = pd.to_datetime(data['Time Index'] * 30, unit='s')\n",
    "# plt.figure(figsize=(16,4), facecolor='white')\n",
    "# plt.rc('font', family='serif', size=15)\n",
    "# lane = data[data.Lane == 1]\n",
    "# # plt.scatter(lane['Time Index'].values , lane.Milemarker.values, \n",
    "# #                             c=lane['Reconstructed Speed'].values,marker='s',s=1, cmap='RdYlGn')\n",
    "# plt.scatter(lane['Time Index'].values , lane.Milemarker.values, \n",
    "#                             c=np.abs(lane['Reconstructed Speed'].values-lane['Speed']),marker='s',s=1, cmap='viridis')\n",
    "# plt.gca().invert_yaxis()\n",
    "# plt.gca().xaxis.set_major_formatter(mdates.DateFormatter('%H:%M'))\n",
    "# plt.title(\"Reconstructed Speeds Lane 1 Thursday, Oct 26, Morning\")\n",
    "# plt.xlabel(\"Time of Day\")\n",
    "# plt.ylabel(\"Milemarker\")\n",
    "# plt.show()"
   ]
  },
  {
   "cell_type": "code",
   "execution_count": null,
   "metadata": {},
   "outputs": [],
   "source": [
    "# from matplotlib.ticker import MultipleLocator\n",
    "\n",
    "# plt.figure(figsize=(16,4), facecolor='white')\n",
    "# plt.rc('font', family='serif', size=15)\n",
    "# lane = data[data.Lane == 1]\n",
    "# plt.scatter(lane['Time Index'].values , lane.Milemarker.values, \n",
    "#                             c=lane['Speed'].values,marker='s',s=1, cmap='RdYlGn')\n",
    "# plt.gca().invert_yaxis()\n",
    "# # plt.gca().xaxis.set_major_locator(MultipleLocator(0.01))\n",
    "# plt.gca().xaxis.set_major_formatter(mdates.DateFormatter('%H:%M'))\n",
    "\n",
    "# # Set x-axis limits\n",
    "# start_time = pd.to_datetime('1970-01-01 09:30:00')\n",
    "# end_time = pd.to_datetime('1970-01-01 09:50:00')\n",
    "# # plt.xlim(start_time, end_time)\n",
    "# # plt.ylim()\n",
    "\n",
    "# plt.title(\"True Speeds Lane 1 Thursday, Oct 26, Morning\")\n",
    "# plt.xlabel(\"Time of Day\")\n",
    "# plt.ylabel(\"Milemarker\")\n",
    "# plt.show()"
   ]
  },
  {
   "cell_type": "code",
   "execution_count": null,
   "metadata": {},
   "outputs": [],
   "source": [
    "# plt.figure(figsize=(16,4), facecolor='white')\n",
    "# plt.rc('font', family='serif', size=15)\n",
    "# lane = data[data.Lane == 1]\n",
    "# plt.scatter(lane['Time Index'].values , lane.Milemarker.values, \n",
    "#                             c=lane['Anomaly'].values,marker='s',s=1, cmap='viridis', label='Nominal')\n",
    "# plt.gca().invert_yaxis()\n",
    "# # plt.gca().xaxis.set_major_locator(MultipleLocator(0.5))\n",
    "# plt.gca().xaxis.set_major_formatter(mdates.DateFormatter('%H:%M'))\n",
    "# # Set x-axis limits\n",
    "# start_time = pd.to_datetime('1970-01-01 08:00:00')\n",
    "# end_time = pd.to_datetime('1970-01-01 11:00:00')\n",
    "# # plt.xlim(start_time, end_time)\n",
    "\n",
    "# # Add vertical line at '1970-01-01 09:39:22'\n",
    "# vline_time = pd.to_datetime('1970-01-01 09:39:22')\n",
    "# plt.axvline(x=vline_time, color='red', linestyle='--', linewidth=2, label='Crash Reported', alpha=0.25)\n",
    "# plt.axhline(y=62.2, color='red', linestyle='--', alpha=0.25)\n",
    "# # plt.ylim(60,65)\n",
    "# plt.legend(loc='upper right')\n",
    "# plt.title(\"Anomaly Detection Lane 1 Thursday Oct 26, Morning\")\n",
    "# plt.xlabel(\"Time of Day\")\n",
    "# plt.ylabel(\"Milemarker\")\n",
    "# plt.show()"
   ]
  }
 ],
 "metadata": {
  "kernelspec": {
   "display_name": "traffic-anomaly",
   "language": "python",
   "name": "python3"
  },
  "language_info": {
   "codemirror_mode": {
    "name": "ipython",
    "version": 3
   },
   "file_extension": ".py",
   "mimetype": "text/x-python",
   "name": "python",
   "nbconvert_exporter": "python",
   "pygments_lexer": "ipython3",
   "version": "3.11.3"
  }
 },
 "nbformat": 4,
 "nbformat_minor": 2
}
