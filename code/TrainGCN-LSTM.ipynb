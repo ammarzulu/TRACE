{
 "cells": [
  {
   "cell_type": "markdown",
   "metadata": {},
   "source": [
    "# Training GCN LSTM AE\n",
    "\n",
    "This notebook shows how to train the anomaly detection model."
   ]
  },
  {
   "cell_type": "code",
   "execution_count": 8,
   "metadata": {},
   "outputs": [],
   "source": [
    "import torch\n",
    "from torch_geometric.data import Data\n",
    "import numpy as np\n",
    "import matplotlib.pyplot as plt\n",
    "import pandas as pd\n",
    "import optuna\n",
    "\n",
    "from models import SpatioTemporalAutoencoder\n",
    "from parameters import STAEParameters, TrainingParameters\n",
    "from datautils import get_morning_data, normalize_data, generate_edges, generate_relational_edges, load_best_parameters, get_full_data, label_anomalies\n",
    "from training import save_model, load_model, train_stae, compute_anomaly_threshold_rstae, test_model, threshold_anomalies, fill_result_df, test_rstae\n",
    "from metrics import calculate_accuracy, crash_detection_delay, calculate_tp_fp, find_thresholds, find_delays, find_percent, discrete_fp_delays, generate_anomaly_labels, calculate_auc, discrete_fp_delays_loc\n",
    "import torch.nn as nn\n",
    "from tqdm import tqdm\n",
    "\n",
    "import random\n",
    "import os\n",
    "import torch_geometric\n",
    "seed=42\n",
    "torch_geometric.seed_everything(seed)"
   ]
  },
  {
   "cell_type": "code",
   "execution_count": 9,
   "metadata": {},
   "outputs": [],
   "source": [
    "hide_anomalies = True"
   ]
  },
  {
   "cell_type": "code",
   "execution_count": 10,
   "metadata": {},
   "outputs": [],
   "source": [
    "# study.trials_dataframe()['datetime_complete'].max()-study.trials_dataframe()['datetime_start'].min()"
   ]
  },
  {
   "cell_type": "markdown",
   "metadata": {},
   "source": [
    "### Time Series Sequencing"
   ]
  },
  {
   "cell_type": "code",
   "execution_count": 11,
   "metadata": {},
   "outputs": [],
   "source": [
    "def sequence_stae(data, timesteps, hide_anomalies=False):\n",
    "    sequence = []\n",
    "    relational_edges, relations = generate_relational_edges(milemarkers=list(range(49)), timesteps=timesteps)\n",
    "    static_edges = generate_edges(milemarkers=list(range(49)))\n",
    "    days = data['day']\n",
    "    anomalies = data['anomaly']\n",
    "    data_vals = data[['occ', 'speed', 'volume']]\n",
    "    unix = data['unix_time']\n",
    "    unique_times = np.unique(data['unix_time'])\n",
    "    kept_indices = []\n",
    "\n",
    "    for index, t in enumerate(tqdm(unique_times[timesteps:])): # skip first 'timesteps'\n",
    "        data_t = []\n",
    "        backward_index = range(index-1, index-timesteps-1, -1)\n",
    "        backward_times = [unique_times[i] for i in backward_index]\n",
    "        curr_day = np.unique(data[data['unix_time']==backward_times[-1]]['day'])[0]\n",
    "        contains_anomaly = np.any([np.unique(data[data['unix_time']==i]['anomaly'])[0] for i in backward_times])\n",
    "        is_curr_day = np.all([np.unique(data[data['unix_time']==i]['day'])[0]==curr_day for i in backward_times])\n",
    "\n",
    "        if (hide_anomalies and contains_anomaly) or not is_curr_day:\n",
    "            continue\n",
    "        \n",
    "        kept_indices.append(index+timesteps)\n",
    "\n",
    "        for i in backward_times:\n",
    "            data_t.append(Data(x=torch.tensor(data[data['unix_time']==i][['occ', 'speed', 'volume']].to_numpy(), dtype=torch.float32), edge_index=static_edges)) # assumes time indices come sequentially, with full data it may not\n",
    "\n",
    "        curr_graph = data_t[0]\n",
    "        sequence.append([data_t[::-1], curr_graph])\n",
    "\n",
    "    return sequence, kept_indices"
   ]
  },
  {
   "cell_type": "markdown",
   "metadata": {},
   "source": [
    "### Loading Hyperparameters"
   ]
  },
  {
   "cell_type": "code",
   "execution_count": 12,
   "metadata": {},
   "outputs": [],
   "source": [
    "optimal_hyperparams = load_best_parameters('gcn_lstm',hide_anomalies=hide_anomalies)"
   ]
  },
  {
   "cell_type": "code",
   "execution_count": 13,
   "metadata": {},
   "outputs": [
    {
     "data": {
      "text/plain": [
       "{'dropout': 0.3863112682928235,\n",
       " 'epochs': 7,\n",
       " 'gcn_hidden_dim': 256,\n",
       " 'latent_dim': 128,\n",
       " 'learning_rate': 9.299411313576956e-05,\n",
       " 'lstm_hidden_dim': 32,\n",
       " 'lstm_num_layers': 2,\n",
       " 'timesteps': 10}"
      ]
     },
     "execution_count": 13,
     "metadata": {},
     "output_type": "execute_result"
    }
   ],
   "source": [
    "optimal_hyperparams"
   ]
  },
  {
   "cell_type": "code",
   "execution_count": 14,
   "metadata": {},
   "outputs": [],
   "source": [
    "mse_weights = [1,1,1] # weights for loss function (occupancy, speed, volume)"
   ]
  },
  {
   "cell_type": "code",
   "execution_count": 15,
   "metadata": {},
   "outputs": [],
   "source": [
    "training_params = TrainingParameters(\n",
    "    learning_rate=optimal_hyperparams['learning_rate'],\n",
    "    batch_size=1,\n",
    "    timesteps=optimal_hyperparams['timesteps'],\n",
    "    n_epochs=optimal_hyperparams['epochs'],\n",
    ")"
   ]
  },
  {
   "cell_type": "code",
   "execution_count": 16,
   "metadata": {},
   "outputs": [],
   "source": [
    "hyperparams = STAEParameters(\n",
    "    num_features=3,\n",
    "    latent_dim=optimal_hyperparams['latent_dim'],\n",
    "    gcn_hidden_dim=optimal_hyperparams['gcn_hidden_dim'],\n",
    "    lstm_hidden_dim=optimal_hyperparams['lstm_hidden_dim'],\n",
    "    lstm_num_layers=optimal_hyperparams['lstm_num_layers'],\n",
    "    dropout=optimal_hyperparams['dropout']\n",
    ")"
   ]
  },
  {
   "cell_type": "code",
   "execution_count": 17,
   "metadata": {},
   "outputs": [
    {
     "name": "stderr",
     "output_type": "stream",
     "text": [
      "100%|██████████| 10550/10550 [01:47<00:00, 98.35it/s] \n",
      "100%|██████████| 2870/2870 [00:14<00:00, 193.44it/s]\n"
     ]
    }
   ],
   "source": [
    "data, test_data, _ = get_full_data()\n",
    "data = normalize_data(data)\n",
    "data = label_anomalies(data)\n",
    "length = len(data.day.unique())\n",
    "train_length = int(length * 0.8)\n",
    "val_length = length - train_length\n",
    "train_days = data.day.unique()[:train_length]\n",
    "val_days = data.day.unique()[train_length:]\n",
    "\n",
    "# Use .isin() to filter the DataFrame based on the days\n",
    "train_data = data[data.day.isin(train_days)]\n",
    "val_data = data[data.day.isin(val_days)]\n",
    "train_sequence, kept_train_indices = sequence_stae(train_data, training_params.timesteps, hide_anomalies=hide_anomalies)\n",
    "val_sequence, kept_val_indices = sequence_stae(val_data, training_params.timesteps, hide_anomalies=hide_anomalies)\n"
   ]
  },
  {
   "cell_type": "markdown",
   "metadata": {},
   "source": [
    "### Model Training or Loading"
   ]
  },
  {
   "cell_type": "code",
   "execution_count": 18,
   "metadata": {},
   "outputs": [],
   "source": [
    "using_pretrained = True"
   ]
  },
  {
   "cell_type": "code",
   "execution_count": 19,
   "metadata": {},
   "outputs": [],
   "source": [
    "\n",
    "if not using_pretrained:\n",
    "    ae, losses = train_stae(staeparams=hyperparams, trainingparams=training_params, training_data=train_sequence, mse_weights=mse_weights, verbose=True, full_data=True)\n",
    "    save_model(ae, f'stae_{hide_anomalies}_{seed}')\n",
    "else:\n",
    "    ae = load_model(SpatioTemporalAutoencoder, hyperparams, f'stae_{hide_anomalies}_{seed}')"
   ]
  },
  {
   "cell_type": "code",
   "execution_count": 20,
   "metadata": {},
   "outputs": [],
   "source": [
    "if not using_pretrained:\n",
    "    plt.plot(losses)"
   ]
  },
  {
   "cell_type": "markdown",
   "metadata": {},
   "source": [
    "### Computing Node-level Anomaly Threshold"
   ]
  },
  {
   "cell_type": "code",
   "execution_count": 21,
   "metadata": {},
   "outputs": [
    {
     "name": "stderr",
     "output_type": "stream",
     "text": [
      "100%|██████████| 1209/1209 [00:13<00:00, 91.78it/s]\n"
     ]
    }
   ],
   "source": [
    "thresh = compute_anomaly_threshold_rstae(val_sequence, ae, mse_weights, 'max')"
   ]
  },
  {
   "cell_type": "markdown",
   "metadata": {},
   "source": [
    "### Loading Test Data"
   ]
  },
  {
   "cell_type": "code",
   "execution_count": 22,
   "metadata": {},
   "outputs": [],
   "source": [
    "_, df_test_data, _ = get_full_data()"
   ]
  },
  {
   "cell_type": "code",
   "execution_count": 23,
   "metadata": {},
   "outputs": [
    {
     "name": "stderr",
     "output_type": "stream",
     "text": [
      "100%|██████████| 4790/4790 [00:41<00:00, 115.22it/s]\n"
     ]
    }
   ],
   "source": [
    "test_data = normalize_data(df_test_data)\n",
    "test_data = label_anomalies(test_data)\n",
    "test_data, kept_test_indices = sequence_stae(test_data, training_params.timesteps, hide_anomalies=False)"
   ]
  },
  {
   "cell_type": "code",
   "execution_count": 24,
   "metadata": {},
   "outputs": [],
   "source": [
    "test_errors, test_recons_speeds, test_true_speeds = test_rstae(test_data, mse_weights, ae)"
   ]
  },
  {
   "cell_type": "code",
   "execution_count": 25,
   "metadata": {},
   "outputs": [
    {
     "data": {
      "text/plain": [
       "(4745, 196)"
      ]
     },
     "execution_count": 25,
     "metadata": {},
     "output_type": "execute_result"
    }
   ],
   "source": [
    "test_errors.shape"
   ]
  },
  {
   "cell_type": "code",
   "execution_count": 40,
   "metadata": {},
   "outputs": [
    {
     "name": "stderr",
     "output_type": "stream",
     "text": [
      "/media/vanderbilt/home/zulqarnain/freeway-anomaly-detection/code/metrics.py:18: SettingWithCopyWarning: \n",
      "A value is trying to be set on a copy of a slice from a DataFrame.\n",
      "Try using .loc[row_indexer,col_indexer] = value instead\n",
      "\n",
      "See the caveats in the documentation: https://pandas.pydata.org/pandas-docs/stable/user_guide/indexing.html#returning-a-view-versus-a-copy\n",
      "  test_data.loc[(test_data['unix_time'] - human_label_time <= 1800) & (test_data['unix_time'] - human_label_time >= 0), 'anomaly'] = 1\n",
      "/media/vanderbilt/home/zulqarnain/freeway-anomaly-detection/code/metrics.py:28: SettingWithCopyWarning: \n",
      "A value is trying to be set on a copy of a slice from a DataFrame\n",
      "\n",
      "See the caveats in the documentation: https://pandas.pydata.org/pandas-docs/stable/user_guide/indexing.html#returning-a-view-versus-a-copy\n",
      "  test_data.fillna(0, inplace=True)\n"
     ]
    }
   ],
   "source": [
    "# Compute true anomaly labels\n",
    "anomaly_labels = generate_anomaly_labels(df_test_data, kept_test_indices)\n",
    "\n",
    "# Whether a crash was reported at each time\n",
    "# crash_reported = df_test_data['crash_record'].to_numpy()[0::196][kept_test_indices]"
   ]
  },
  {
   "cell_type": "code",
   "execution_count": 41,
   "metadata": {},
   "outputs": [
    {
     "name": "stderr",
     "output_type": "stream",
     "text": [
      "/tmp/ipykernel_533624/3884504702.py:6: SettingWithCopyWarning: \n",
      "A value is trying to be set on a copy of a slice from a DataFrame.\n",
      "Try using .loc[row_indexer,col_indexer] = value instead\n",
      "\n",
      "See the caveats in the documentation: https://pandas.pydata.org/pandas-docs/stable/user_guide/indexing.html#returning-a-view-versus-a-copy\n",
      "  df_test_data['Time']=converted_dates_naive\n",
      "/tmp/ipykernel_533624/3884504702.py:50: SettingWithCopyWarning: \n",
      "A value is trying to be set on a copy of a slice from a DataFrame.\n",
      "Try using .loc[row_indexer,col_indexer] = value instead\n",
      "\n",
      "See the caveats in the documentation: https://pandas.pydata.org/pandas-docs/stable/user_guide/indexing.html#returning-a-view-versus-a-copy\n",
      "  test_events['Time'] = pd.to_datetime(test_events['Time'])\n",
      "/tmp/ipykernel_533624/3884504702.py:52: SettingWithCopyWarning: \n",
      "A value is trying to be set on a copy of a slice from a DataFrame.\n",
      "Try using .loc[row_indexer,col_indexer] = value instead\n",
      "\n",
      "See the caveats in the documentation: https://pandas.pydata.org/pandas-docs/stable/user_guide/indexing.html#returning-a-view-versus-a-copy\n",
      "  df_test_data['combined'] = df_test_data['Time'].astype(str) + '_' + df_test_data['milemarker'].astype(str)\n",
      "/tmp/ipykernel_533624/3884504702.py:53: SettingWithCopyWarning: \n",
      "A value is trying to be set on a copy of a slice from a DataFrame.\n",
      "Try using .loc[row_indexer,col_indexer] = value instead\n",
      "\n",
      "See the caveats in the documentation: https://pandas.pydata.org/pandas-docs/stable/user_guide/indexing.html#returning-a-view-versus-a-copy\n",
      "  test_events['combined'] = test_events['Time'].astype(str) + '_' + test_events['mapped_milemarkers'].astype(str)\n",
      "/tmp/ipykernel_533624/3884504702.py:55: SettingWithCopyWarning: \n",
      "A value is trying to be set on a copy of a slice from a DataFrame.\n",
      "Try using .loc[row_indexer,col_indexer] = value instead\n",
      "\n",
      "See the caveats in the documentation: https://pandas.pydata.org/pandas-docs/stable/user_guide/indexing.html#returning-a-view-versus-a-copy\n",
      "  df_test_data['exists'] = df_test_data['combined'].isin(test_events['combined']).astype(int)\n",
      "/tmp/ipykernel_533624/3884504702.py:56: SettingWithCopyWarning: \n",
      "A value is trying to be set on a copy of a slice from a DataFrame.\n",
      "Try using .loc[row_indexer,col_indexer] = value instead\n",
      "\n",
      "See the caveats in the documentation: https://pandas.pydata.org/pandas-docs/stable/user_guide/indexing.html#returning-a-view-versus-a-copy\n",
      "  df_test_data['crash_record']=((df_test_data['exists'] == 1) & (df_test_data['crash_record'] == 1)\n"
     ]
    }
   ],
   "source": [
    "converted_dates_utc = pd.to_datetime(df_test_data.unix_time, unit='s', utc=True)\n",
    "\n",
    "# Step 2: Convert to US/Central timezone\n",
    "converted_dates_central = converted_dates_utc.dt.tz_convert('US/Central')\n",
    "converted_dates_naive = converted_dates_central.dt.tz_localize(None)\n",
    "df_test_data['Time']=converted_dates_naive\n",
    "\n",
    "import glob\n",
    "pattern=sorted(glob.glob('../data/event_data/2023-10-*.csv'))\n",
    "events=pd.DataFrame()\n",
    "for i in pattern:\n",
    "    event=pd.read_csv(i,sep=';')\n",
    "    events=pd.concat([events,event],axis=0)\n",
    "events.reset_index(drop=True,inplace=True)\n",
    "# events['timestamp']=pd.to_datetime(events['event_update_time'],utc=False)\n",
    "events['Time'] = pd.to_datetime(events['event_update_time'], utc=False)\n",
    "\n",
    "# To ensure the timestamps are naive (no timezone)\n",
    "events['Time'] = events['Time'].dt.tz_localize(None).dt.floor('1s').dt.ceil('30s')\n",
    "events=events[(events['event_update_type'] == 'new') & (events['classification']=='incident')]\n",
    "events.drop_duplicates(subset=['event_id'],inplace=True)\n",
    "events=events.sort_values(by='Time').reset_index(drop=True)\n",
    "\n",
    "\n",
    "array1=np.array(events.milemarker.sort_values().unique())\n",
    "array2=np.array(df_test_data.milemarker.unique())\n",
    "def find_closest_or_exact(target, array):\n",
    "    # Find the indices where the target would fit\n",
    "    idx = np.searchsorted(array, target)\n",
    "    \n",
    "    # Check for exact match\n",
    "    if idx < len(array) and array[idx] == target:\n",
    "        return array[idx]  # Exact match\n",
    "    \n",
    "    # Find the closest lower value (if it exists)\n",
    "    lower = array[idx - 1] if idx > 0 else None\n",
    "    \n",
    "    # Find the closest higher value (if it exists)\n",
    "    higher = array[idx] if idx < len(array) else None\n",
    "    \n",
    "    return [lower, higher]\n",
    "\n",
    "# Mapping from array2 to closest values in array1\n",
    "events['mapped_milemarkers'] = events['milemarker'].apply(lambda x: find_closest_or_exact(x, array2))\n",
    "events=events.explode('mapped_milemarkers')\n",
    "# Filter events based on Time in df_test_data\n",
    "test_events = events[events['Time'].isin(df_test_data['Time'])]\n",
    "\n",
    "# Ensure 'Time' in test_events is properly converted to pandas.Timestamp\n",
    "test_events['Time'] = pd.to_datetime(test_events['Time'])\n",
    "\n",
    "df_test_data['combined'] = df_test_data['Time'].astype(str) + '_' + df_test_data['milemarker'].astype(str)\n",
    "test_events['combined'] = test_events['Time'].astype(str) + '_' + test_events['mapped_milemarkers'].astype(str)\n",
    "\n",
    "df_test_data['exists'] = df_test_data['combined'].isin(test_events['combined']).astype(int)\n",
    "df_test_data['crash_record']=((df_test_data['exists'] == 1) & (df_test_data['crash_record'] == 1)\n",
    ").astype(int)\n",
    "crash_reported=df_test_data['crash_record'].to_numpy().reshape(-1,196)[kept_test_indices]\n",
    "\n"
   ]
  },
  {
   "cell_type": "code",
   "execution_count": 42,
   "metadata": {},
   "outputs": [
    {
     "name": "stderr",
     "output_type": "stream",
     "text": [
      "100%|██████████| 1000/1000 [00:28<00:00, 34.85it/s]"
     ]
    },
    {
     "name": "stdout",
     "output_type": "stream",
     "text": [
      "Found FPR of 0.010025062656641603 for 0.01\n",
      "Found FPR of 0.024644945697577275 for 0.025\n",
      "Found FPR of 0.05012531328320802 for 0.05\n",
      "Found FPR of 0.09941520467836257 for 0.1\n",
      "Found FPR of 0.1996658312447786 for 0.2\n",
      "FPR 1% gives mean delay of -3.0833333333333335 +/- 10.084710649735513 with mean. distance of 2.8388888888888886 +/- 1.7181672693402406 while missing 0.4%.\n",
      "FPR 2.5% gives mean delay of -6.571428571428571 +/- 10.331742251875221 with mean. distance of 3.1149999999999998 +/- 2.457239304585534 while missing 0.30000000000000004%.\n",
      "FPR 5% gives mean delay of -10.5 +/- 5.9281411203561225 with mean. distance of 3.08 +/- 2.4689268923967758 while missing 0.30000000000000004%.\n",
      "FPR 10% gives mean delay of -13.142857142857142 +/- 1.976907500442578 with mean. distance of 3.2375 +/- 2.8294673379748825 while missing 0.30000000000000004%.\n",
      "FPR 20% gives mean delay of -11.9 +/- 3.8910152916687437 with mean. distance of 2.160869565217391 +/- 2.4284973221843025 while missing 0.0%.\n"
     ]
    },
    {
     "name": "stderr",
     "output_type": "stream",
     "text": [
      "\n"
     ]
    }
   ],
   "source": [
    "path_results = 'saved_results/gcn_lstm/'\n",
    "results = discrete_fp_delays_loc(thresh, test_errors, anomaly_labels, crash_reported)\n",
    "\n",
    "# Check if the directory exists, and create it if it does not\n",
    "if not os.path.exists(path_results):\n",
    "    os.makedirs(path_results)\n",
    "\n",
    "# Save the results to a CSV file\n",
    "# results.to_csv(f'{path_results}results_{hide_anomalies}_{seed}.csv', index=False)\n",
    "\n",
    "\n"
   ]
  },
  {
   "cell_type": "code",
   "execution_count": 21,
   "metadata": {},
   "outputs": [
    {
     "data": {
      "text/plain": [
       "0.6906653120285705"
      ]
     },
     "execution_count": 21,
     "metadata": {},
     "output_type": "execute_result"
    }
   ],
   "source": [
    "#SAVING RESULTS\n",
    "calculate_auc(test_errors,anomaly_labels)\n",
    "\n",
    "# 100%|██████████| 1000/1000 [00:28<00:00, 34.85it/s]Found FPR of 0.00997506234413965 for 0.01\n",
    "# Found FPR of 0.02493765586034913 for 0.025\n",
    "# Found FPR of 0.04987531172069826 for 0.05\n",
    "# Found FPR of 0.09891936824605153 for 0.1\n",
    "# Found FPR of 0.20116375727348296 for 0.2\n",
    "# FPR 1% gives mean delay of -0.375 +/- 7.833222516946649 while missing 0.33333333333333337%.\n",
    "# FPR 2.5% gives mean delay of -7.666666666666667 +/- 6.411794687223782 while missing 0.25%.\n",
    "# FPR 5% gives mean delay of -7.2272727272727275 +/- 5.793270533219934 while missing 0.08333333333333337%.\n",
    "# FPR 10% gives mean delay of -10.666666666666666 +/- 4.963757537278476 while missing 0.0%.\n",
    "# FPR 20% gives mean delay of -12.958333333333334 +/- 1.8080644961455945 while missing 0.0%.\n",
    "\n",
    "\n"
   ]
  },
  {
   "cell_type": "code",
   "execution_count": 44,
   "metadata": {},
   "outputs": [
    {
     "data": {
      "text/plain": [
       "True"
      ]
     },
     "execution_count": 44,
     "metadata": {},
     "output_type": "execute_result"
    }
   ],
   "source": [
    "hide_anomalies"
   ]
  },
  {
   "cell_type": "markdown",
   "metadata": {},
   "source": [
    "Spatial Localization"
   ]
  },
  {
   "cell_type": "code",
   "execution_count": 22,
   "metadata": {},
   "outputs": [
    {
     "name": "stderr",
     "output_type": "stream",
     "text": [
      "/tmp/ipykernel_3874500/527824920.py:6: SettingWithCopyWarning: \n",
      "A value is trying to be set on a copy of a slice from a DataFrame.\n",
      "Try using .loc[row_indexer,col_indexer] = value instead\n",
      "\n",
      "See the caveats in the documentation: https://pandas.pydata.org/pandas-docs/stable/user_guide/indexing.html#returning-a-view-versus-a-copy\n",
      "  df_test_data['Time']=converted_dates_naive\n"
     ]
    }
   ],
   "source": [
    "converted_dates_utc = pd.to_datetime(df_test_data.unix_time, unit='s', utc=True)\n",
    "\n",
    "# Step 2: Convert to US/Central timezone\n",
    "converted_dates_central = converted_dates_utc.dt.tz_convert('US/Central')\n",
    "converted_dates_naive = converted_dates_central.dt.tz_localize(None)\n",
    "df_test_data['Time']=converted_dates_naive"
   ]
  },
  {
   "cell_type": "code",
   "execution_count": null,
   "metadata": {},
   "outputs": [
    {
     "name": "stderr",
     "output_type": "stream",
     "text": [
      "/tmp/ipykernel_3874500/20370410.py:43: SettingWithCopyWarning: \n",
      "A value is trying to be set on a copy of a slice from a DataFrame.\n",
      "Try using .loc[row_indexer,col_indexer] = value instead\n",
      "\n",
      "See the caveats in the documentation: https://pandas.pydata.org/pandas-docs/stable/user_guide/indexing.html#returning-a-view-versus-a-copy\n",
      "  test_events['Time'] = pd.to_datetime(test_events['Time'])\n",
      "/tmp/ipykernel_3874500/20370410.py:45: SettingWithCopyWarning: \n",
      "A value is trying to be set on a copy of a slice from a DataFrame.\n",
      "Try using .loc[row_indexer,col_indexer] = value instead\n",
      "\n",
      "See the caveats in the documentation: https://pandas.pydata.org/pandas-docs/stable/user_guide/indexing.html#returning-a-view-versus-a-copy\n",
      "  df_test_data['combined'] = df_test_data['Time'].astype(str) + '_' + df_test_data['milemarker'].astype(str)\n",
      "/tmp/ipykernel_3874500/20370410.py:46: SettingWithCopyWarning: \n",
      "A value is trying to be set on a copy of a slice from a DataFrame.\n",
      "Try using .loc[row_indexer,col_indexer] = value instead\n",
      "\n",
      "See the caveats in the documentation: https://pandas.pydata.org/pandas-docs/stable/user_guide/indexing.html#returning-a-view-versus-a-copy\n",
      "  test_events['combined'] = test_events['Time'].astype(str) + '_' + test_events['mapped_milemarkers'].astype(str)\n",
      "/tmp/ipykernel_3874500/20370410.py:48: SettingWithCopyWarning: \n",
      "A value is trying to be set on a copy of a slice from a DataFrame.\n",
      "Try using .loc[row_indexer,col_indexer] = value instead\n",
      "\n",
      "See the caveats in the documentation: https://pandas.pydata.org/pandas-docs/stable/user_guide/indexing.html#returning-a-view-versus-a-copy\n",
      "  df_test_data['exists'] = df_test_data['combined'].isin(test_events['combined']).astype(int)\n",
      "/tmp/ipykernel_3874500/20370410.py:49: SettingWithCopyWarning: \n",
      "A value is trying to be set on a copy of a slice from a DataFrame.\n",
      "Try using .loc[row_indexer,col_indexer] = value instead\n",
      "\n",
      "See the caveats in the documentation: https://pandas.pydata.org/pandas-docs/stable/user_guide/indexing.html#returning-a-view-versus-a-copy\n",
      "  df_test_data['crash_record']=((df_test_data['exists'] == 1) & (df_test_data['crash_record'] == 1)\n"
     ]
    }
   ],
   "source": [
    "import glob\n",
    "pattern=sorted(glob.glob('../data/event_data/2023-10-*.csv'))\n",
    "events=pd.DataFrame()\n",
    "for i in pattern:\n",
    "    event=pd.read_csv(i,sep=';')\n",
    "    events=pd.concat([events,event],axis=0)\n",
    "events.reset_index(drop=True,inplace=True)\n",
    "# events['timestamp']=pd.to_datetime(events['event_update_time'],utc=False)\n",
    "events['Time'] = pd.to_datetime(events['event_update_time'], utc=False)\n",
    "\n",
    "# To ensure the timestamps are naive (no timezone)\n",
    "events['Time'] = events['Time'].dt.tz_localize(None).dt.floor('1s').dt.ceil('30s')\n",
    "events=events[(events['event_update_type'] == 'new') & (events['classification']=='incident')]\n",
    "events.drop_duplicates(subset=['event_id'],inplace=True)\n",
    "events=events.sort_values(by='Time').reset_index(drop=True)\n",
    "\n",
    "\n",
    "array1=np.array(events.milemarker.sort_values().unique())\n",
    "array2=np.array(df_test_data.milemarker.unique())\n",
    "def find_closest_or_exact(target, array):\n",
    "    # Find the indices where the target would fit\n",
    "    idx = np.searchsorted(array, target)\n",
    "    \n",
    "    # Check for exact match\n",
    "    if idx < len(array) and array[idx] == target:\n",
    "        return array[idx]  # Exact match\n",
    "    \n",
    "    # Find the closest lower value (if it exists)\n",
    "    lower = array[idx - 1] if idx > 0 else None\n",
    "    \n",
    "    # Find the closest higher value (if it exists)\n",
    "    higher = array[idx] if idx < len(array) else None\n",
    "    \n",
    "    return [lower, higher]\n",
    "\n",
    "# Mapping from array2 to closest values in array1\n",
    "events['mapped_milemarkers'] = events['milemarker'].apply(lambda x: find_closest_or_exact(x, array2))\n",
    "events=events.explode('mapped_milemarkers')\n",
    "# Filter events based on Time in df_test_data\n",
    "test_events = events[events['Time'].isin(df_test_data['Time'])]\n",
    "\n",
    "# Ensure 'Time' in test_events is properly converted to pandas.Timestamp\n",
    "test_events['Time'] = pd.to_datetime(test_events['Time'])\n",
    "\n",
    "df_test_data['combined'] = df_test_data['Time'].astype(str) + '_' + df_test_data['milemarker'].astype(str)\n",
    "test_events['combined'] = test_events['Time'].astype(str) + '_' + test_events['mapped_milemarkers'].astype(str)\n",
    "\n",
    "df_test_data['exists'] = df_test_data['combined'].isin(test_events['combined']).astype(int)\n",
    "df_test_data['crash_record']=((df_test_data['exists'] == 1) & (df_test_data['crash_record'] == 1)\n",
    ").astype(int)\n",
    "crash_reported=df_test_data['crash_record'].to_numpy().reshape(-1,196)[kept_test_indices]\n",
    "\n"
   ]
  },
  {
   "cell_type": "code",
   "execution_count": null,
   "metadata": {},
   "outputs": [],
   "source": []
  },
  {
   "cell_type": "code",
   "execution_count": 25,
   "metadata": {},
   "outputs": [],
   "source": [
    "def crash_detection_delay_loc(anomaly_pred, crash_reported, sr=0.5):\n",
    "    time_anomalies = np.any(anomaly_pred==1, axis=1)\n",
    "    spac_pred = np.any(anomaly_pred.reshape(-1, 49, 4)==1, axis=2)\n",
    "    space_anomalies = np.any(crash_reported.reshape(-1, 49, 4)==1, axis=2)\n",
    "    delay = []\n",
    "    detects = []\n",
    "    localizations = []\n",
    "    \n",
    "    reported_indices = np.unique(np.where(crash_reported == 1)[0])\n",
    "    for i in reported_indices:\n",
    "        detected = False\n",
    "        for t in range(int(i-(15/sr)), int(i+(15/sr))):\n",
    "            if t >= len(time_anomalies):\n",
    "                detected = False\n",
    "                break\n",
    "            if time_anomalies[t] == 1:\n",
    "                delay.append(t-i)\n",
    "                anom_indices=np.where(space_anomalies[i]==1)[0]\n",
    "                pred_indices=np.where(spac_pred[t]==1)[0]\n",
    "                distances = np.abs(anom_indices[:, None] - pred_indices[None, :])\n",
    "\n",
    "                # Find the mean distance\n",
    "                \n",
    "                localizations.append(distances.flatten())\n",
    "                \n",
    "                \n",
    "                \n",
    "                detected = True\n",
    "                break\n",
    "            \n",
    "        detects.append(detected)\n",
    "    all_distances = np.concatenate(localizations) if localizations else np.array([])\n",
    "\n",
    "    \n",
    "    return delay, detects, all_distances"
   ]
  },
  {
   "cell_type": "code",
   "execution_count": 27,
   "metadata": {},
   "outputs": [
    {
     "name": "stderr",
     "output_type": "stream",
     "text": [
      "100%|██████████| 1000/1000 [00:28<00:00, 35.00it/s]"
     ]
    },
    {
     "name": "stdout",
     "output_type": "stream",
     "text": [
      "Found FPR of 0.00997506234413965 for 0.01\n",
      "Found FPR of 0.02493765586034913 for 0.025\n",
      "Found FPR of 0.04987531172069826 for 0.05\n",
      "Found FPR of 0.09891936824605153 for 0.1\n",
      "Found FPR of 0.20116375727348296 for 0.2\n",
      "FPR 1% gives mean delay of 0.14285714285714285 +/- 8.2449737317189 with mean. distance of 3.01 +/- 3.9043437348676147 while missing 0.30000000000000004%.\n",
      "FPR 2.5% gives mean delay of -9.785714285714286 +/- 5.350948800093726 with mean. distance of 3.8499999999999996 +/- 3.4904414933045103 while missing 0.30000000000000004%.\n",
      "FPR 5% gives mean delay of -8.0 +/- 6.141841924229427 with mean. distance of 3.4461538461538463 +/- 3.342584302973555 while missing 0.09999999999999998%.\n",
      "FPR 10% gives mean delay of -11.15 +/- 4.863383595810637 with mean. distance of 3.040625 +/- 2.46780638612007 while missing 0.0%.\n",
      "FPR 20% gives mean delay of -13.2 +/- 1.8055470085267789 with mean. distance of 2.614705882352941 +/- 2.4576869030645074 while missing 0.0%.\n"
     ]
    },
    {
     "name": "stderr",
     "output_type": "stream",
     "text": [
      "\n"
     ]
    }
   ],
   "source": [
    "thresholds = find_thresholds(thresh, test_errors, anomaly_labels) #thresholds[:,0] is the fpr\n",
    "\n",
    "fprs = [1, 2.5, 5, 10, 20]\n",
    "new_thresholds = []\n",
    "for fpr in fprs:\n",
    "    new_thresholds.append(find_percent(thresholds, fpr))\n",
    "\n",
    "anomaly_instances = []\n",
    "for t in new_thresholds:\n",
    "    anomaly_instances.append(threshold_anomalies(thresh+t, test_errors))\n",
    "    \n",
    "results=[]\n",
    "for i, fpr in enumerate(fprs):\n",
    "    delay, found, distances = crash_detection_delay_loc(anomaly_instances[i], crash_reported, sr=0.5)\n",
    "    mu = np.mean(delay) * 0.5\n",
    "    std = np.std(delay) * 0.5\n",
    "    mu_dist = np.mean(distances)\n",
    "    std_dist = np.std(distances)\n",
    "    miss_percent = 1-(np.sum(found) / len(found))\n",
    "    \n",
    "    results.append([fpr, mu, std, miss_percent, mu_dist, std_dist])\n",
    "    print(f'FPR {fpr}% gives mean delay of {mu} +/- {std} with mean. distance of {mu_dist*0.35} +/- {std_dist*0.35} while missing {miss_percent}%.')\n",
    "    # break\n",
    "results_df = pd.DataFrame(results, columns=['FPR (%)', 'Mean Delay', 'Std Delay', 'Miss Percentage', 'Mean Distance', 'Std Distance'])\n",
    "\n"
   ]
  },
  {
   "cell_type": "code",
   "execution_count": null,
   "metadata": {},
   "outputs": [
    {
     "name": "stdout",
     "output_type": "stream",
     "text": [
      "FPR 1% gives mean delay of 0.14285714285714285 +/- 8.2449737317189 with mean. distance of 3.01 +/- 3.9043437348676147 while missing 0.30000000000000004%.\n",
      "FPR 2.5% gives mean delay of -9.785714285714286 +/- 5.350948800093726 with mean. distance of 3.8499999999999996 +/- 3.4904414933045103 while missing 0.30000000000000004%.\n",
      "FPR 5% gives mean delay of -8.0 +/- 6.141841924229427 with mean. distance of 3.4461538461538463 +/- 3.342584302973555 while missing 0.09999999999999998%.\n",
      "FPR 10% gives mean delay of -11.15 +/- 4.863383595810637 with mean. distance of 3.040625 +/- 2.46780638612007 while missing 0.0%.\n",
      "FPR 20% gives mean delay of -13.2 +/- 1.8055470085267789 with mean. distance of 2.614705882352941 +/- 2.4576869030645074 while missing 0.0%.\n"
     ]
    }
   ],
   "source": []
  },
  {
   "cell_type": "code",
   "execution_count": 105,
   "metadata": {},
   "outputs": [
    {
     "data": {
      "text/plain": [
       "array([[ 5],\n",
       "       [ 4],\n",
       "       [38],\n",
       "       [20],\n",
       "       [ 1],\n",
       "       [ 2],\n",
       "       [ 7],\n",
       "       [ 6],\n",
       "       [ 0],\n",
       "       [ 3]])"
      ]
     },
     "execution_count": 105,
     "metadata": {},
     "output_type": "execute_result"
    }
   ],
   "source": [
    "np.concatenate(distances)"
   ]
  },
  {
   "cell_type": "code",
   "execution_count": 97,
   "metadata": {},
   "outputs": [
    {
     "data": {
      "text/plain": [
       "[array([[5],\n",
       "        [4]]),\n",
       " array([[38]]),\n",
       " array([[20]]),\n",
       " array([[1],\n",
       "        [2]]),\n",
       " array([[7],\n",
       "        [6]]),\n",
       " array([[0]]),\n",
       " array([[3]])]"
      ]
     },
     "execution_count": 97,
     "metadata": {},
     "output_type": "execute_result"
    }
   ],
   "source": [
    "distances"
   ]
  },
  {
   "cell_type": "code",
   "execution_count": 52,
   "metadata": {},
   "outputs": [],
   "source": [
    "reported_indices = np.where(crash_reported == 1)[0]"
   ]
  },
  {
   "cell_type": "code",
   "execution_count": 53,
   "metadata": {},
   "outputs": [
    {
     "data": {
      "text/plain": [
       "array([ 274,  274,  274,  274,  274,  274,  274,  274, 2218, 2218, 2218,\n",
       "       2218, 2341, 2341, 2341, 2341, 2403, 2403, 2403, 2403, 2403, 2403,\n",
       "       2403, 2403, 2564, 2564, 2564, 2564, 2564, 2564, 2564, 2564, 2766,\n",
       "       2766, 2766, 2766, 3681, 3681, 3681, 3681, 3681, 3681, 3681, 3681,\n",
       "       3730, 3730, 3730, 3730, 3730, 3730, 3730, 3730, 4453, 4453, 4453,\n",
       "       4453, 4515, 4515, 4515, 4515])"
      ]
     },
     "execution_count": 53,
     "metadata": {},
     "output_type": "execute_result"
    }
   ],
   "source": [
    "reported_indices"
   ]
  },
  {
   "cell_type": "code",
   "execution_count": null,
   "metadata": {},
   "outputs": [],
   "source": [
    "\n",
    "\n",
    "def generate_anomaly_labels_node_level(test_data, kept_indices, node_column='milemarker'):\n",
    "    unix_times = np.unique(test_data['unix_time'])\n",
    "    test_data = test_data[test_data['unix_time'].isin(unix_times[kept_indices])]\n",
    "    \n",
    "    # Label anomalies based on human-labeled events at each node (mile marker)\n",
    "    human_label_times = test_data[test_data['human_label'] == 1][['unix_time', node_column]].drop_duplicates()\n",
    "    for _, row in human_label_times.iterrows():\n",
    "        human_label_time = row['unix_time']\n",
    "        node = row[node_column]\n",
    "        test_data.loc[\n",
    "            (test_data['unix_time'] - human_label_time <= 1800) & \n",
    "            (test_data['unix_time'] - human_label_time >= 0) & \n",
    "            (test_data[node_column] == node), \n",
    "            'anomaly'\n",
    "        ] = 1\n",
    "    \n",
    "    # Label anomalies based on crash records at each node (mile marker)\n",
    "    crash_label_times = test_data[test_data['crash_record'] == 1][['unix_time', node_column]].drop_duplicates()\n",
    "    \n",
    "    for _, row in crash_label_times.iterrows():\n",
    "        crash_label_time = row['unix_time']\n",
    "        node = row[node_column]\n",
    "        test_data.loc[\n",
    "            (test_data['unix_time'] - crash_label_time <= 900) & \n",
    "            (test_data['unix_time'] - crash_label_time >= -900) & \n",
    "            (test_data[node_column] == node), \n",
    "            'anomaly'\n",
    "        ] = 1\n",
    "\n",
    "    incident_times = np.unique(test_data[(test_data['human_label']==1) | (test_data['crash_record']==1)]['unix_time'])\n",
    "    for incident_time in incident_times:\n",
    "        test_data.loc[(test_data['unix_time'] - incident_time <= 6300) & (test_data['unix_time'] - incident_time >= 900), 'anomaly'] = -1\n",
    "    \n",
    "    test_data.fillna(0, inplace=True)\n",
    "\n",
    "    return test_data\n",
    "\n",
    "\n",
    "def generate_anomaly_labels_spatial(test_data, kept_indices):\n",
    "    unix_times = np.unique(test_data['unix_time'])\n",
    "    test_data = test_data[test_data['unix_time'].isin(unix_times[kept_indices])]\n",
    "    human_label_times = np.unique(test_data[test_data['human_label']==1]['unix_time'])\n",
    "    for human_label_time in human_label_times:\n",
    "        test_data.loc[(test_data['unix_time'] - human_label_time <= 1800) & (test_data['unix_time'] - human_label_time >= 0), 'anomaly'] = 1\n",
    "\n",
    "    crash_label_times = np.unique(test_data[test_data['crash_record']==1]['unix_time'])\n",
    "    for crash_label_time in crash_label_times:\n",
    "        test_data.loc[(test_data['unix_time'] - crash_label_time <= 900) & (test_data['unix_time'] - crash_label_time >= -900), 'anomaly'] = 1\n",
    "\n",
    "    incident_times = np.unique(test_data[(test_data['human_label']==1) | (test_data['crash_record']==1)]['unix_time'])\n",
    "    for incident_time in incident_times:\n",
    "        test_data.loc[(test_data['unix_time'] - incident_time <= 6300) & (test_data['unix_time'] - incident_time >= 900), 'anomaly'] = -1\n",
    "    \n",
    "    test_data.fillna(0, inplace=True)\n",
    "\n",
    "    return test_data"
   ]
  },
  {
   "cell_type": "code",
   "execution_count": 45,
   "metadata": {},
   "outputs": [
    {
     "name": "stdout",
     "output_type": "stream",
     "text": [
      "         unix_time  milemarker\n",
      "340550  1697021700        53.3\n",
      "340551  1697021700        53.6\n",
      "340552  1697021700        53.9\n",
      "340553  1697021700        54.1\n",
      "340554  1697021700        54.6\n",
      "...            ...         ...\n",
      "485144  1697455800        68.5\n",
      "485145  1697455800        68.8\n",
      "485146  1697455800        69.3\n",
      "485147  1697455800        69.8\n",
      "485148  1697455800        70.1\n",
      "\n",
      "[392 rows x 2 columns]\n"
     ]
    },
    {
     "name": "stderr",
     "output_type": "stream",
     "text": [
      "/tmp/ipykernel_2133494/564281729.py:11: SettingWithCopyWarning: \n",
      "A value is trying to be set on a copy of a slice from a DataFrame.\n",
      "Try using .loc[row_indexer,col_indexer] = value instead\n",
      "\n",
      "See the caveats in the documentation: https://pandas.pydata.org/pandas-docs/stable/user_guide/indexing.html#returning-a-view-versus-a-copy\n",
      "  test_data.loc[\n",
      "/tmp/ipykernel_2133494/564281729.py:34: SettingWithCopyWarning: \n",
      "A value is trying to be set on a copy of a slice from a DataFrame\n",
      "\n",
      "See the caveats in the documentation: https://pandas.pydata.org/pandas-docs/stable/user_guide/indexing.html#returning-a-view-versus-a-copy\n",
      "  test_data.fillna(0, inplace=True)\n"
     ]
    }
   ],
   "source": [
    "spatial_anomaly_labels = generate_anomaly_labels_node_level(df_test_data, kept_test_indices)\n"
   ]
  },
  {
   "cell_type": "code",
   "execution_count": 23,
   "metadata": {},
   "outputs": [
    {
     "name": "stderr",
     "output_type": "stream",
     "text": [
      "/media/vanderbilt/home/zulqarnain/freeway-anomaly-detection/code/metrics.py:18: SettingWithCopyWarning: \n",
      "A value is trying to be set on a copy of a slice from a DataFrame.\n",
      "Try using .loc[row_indexer,col_indexer] = value instead\n",
      "\n",
      "See the caveats in the documentation: https://pandas.pydata.org/pandas-docs/stable/user_guide/indexing.html#returning-a-view-versus-a-copy\n",
      "  test_data.loc[(test_data['unix_time'] - human_label_time <= 1800) & (test_data['unix_time'] - human_label_time >= 0), 'anomaly'] = 1\n",
      "/media/vanderbilt/home/zulqarnain/freeway-anomaly-detection/code/metrics.py:28: SettingWithCopyWarning: \n",
      "A value is trying to be set on a copy of a slice from a DataFrame\n",
      "\n",
      "See the caveats in the documentation: https://pandas.pydata.org/pandas-docs/stable/user_guide/indexing.html#returning-a-view-versus-a-copy\n",
      "  test_data.fillna(0, inplace=True)\n"
     ]
    }
   ],
   "source": [
    "anomaly_labels = generate_anomaly_labels(df_test_data, kept_test_indices)"
   ]
  },
  {
   "cell_type": "code",
   "execution_count": 26,
   "metadata": {},
   "outputs": [
    {
     "data": {
      "text/plain": [
       "array([0, 0, 0, ..., 0, 0, 0])"
      ]
     },
     "execution_count": 26,
     "metadata": {},
     "output_type": "execute_result"
    }
   ],
   "source": [
    "crash_reported"
   ]
  },
  {
   "cell_type": "markdown",
   "metadata": {},
   "source": [
    "### Compute FPR / Crash Detection Delay Tradeoff"
   ]
  },
  {
   "cell_type": "code",
   "execution_count": 26,
   "metadata": {},
   "outputs": [
    {
     "name": "stderr",
     "output_type": "stream",
     "text": [
      "  0%|          | 0/1000 [00:00<?, ?it/s]"
     ]
    },
    {
     "name": "stderr",
     "output_type": "stream",
     "text": [
      "100%|██████████| 1000/1000 [00:32<00:00, 30.60it/s]\n",
      "100%|██████████| 98/98 [00:00<00:00, 200.48it/s]\n"
     ]
    }
   ],
   "source": [
    "import importlib\n",
    "import metrics\n",
    "importlib.reload(metrics)\n",
    "delay_results = np.array(metrics.find_delays(thresh, test_errors, anomaly_labels, crash_reported))"
   ]
  },
  {
   "cell_type": "code",
   "execution_count": 27,
   "metadata": {},
   "outputs": [],
   "source": [
    "delay_df = pd.DataFrame(delay_results, columns=['FPR', 'Mean Delay', 'Std Delay', 'Found Percent'])\n",
    "delay_df.to_csv('./saved_results/stae_fp_delay.csv')"
   ]
  },
  {
   "cell_type": "code",
   "execution_count": 28,
   "metadata": {},
   "outputs": [
    {
     "data": {
      "text/html": [
       "<div>\n",
       "<style scoped>\n",
       "    .dataframe tbody tr th:only-of-type {\n",
       "        vertical-align: middle;\n",
       "    }\n",
       "\n",
       "    .dataframe tbody tr th {\n",
       "        vertical-align: top;\n",
       "    }\n",
       "\n",
       "    .dataframe thead th {\n",
       "        text-align: right;\n",
       "    }\n",
       "</style>\n",
       "<table border=\"1\" class=\"dataframe\">\n",
       "  <thead>\n",
       "    <tr style=\"text-align: right;\">\n",
       "      <th></th>\n",
       "      <th>FPR</th>\n",
       "      <th>Mean Delay</th>\n",
       "      <th>Std Delay</th>\n",
       "      <th>Found Percent</th>\n",
       "    </tr>\n",
       "  </thead>\n",
       "  <tbody>\n",
       "    <tr>\n",
       "      <th>99</th>\n",
       "      <td>1.000000</td>\n",
       "      <td>-30.000000</td>\n",
       "      <td>0.000000</td>\n",
       "      <td>1.000000</td>\n",
       "    </tr>\n",
       "    <tr>\n",
       "      <th>73</th>\n",
       "      <td>0.737739</td>\n",
       "      <td>-30.000000</td>\n",
       "      <td>0.000000</td>\n",
       "      <td>1.000000</td>\n",
       "    </tr>\n",
       "    <tr>\n",
       "      <th>72</th>\n",
       "      <td>0.726101</td>\n",
       "      <td>-30.000000</td>\n",
       "      <td>0.000000</td>\n",
       "      <td>1.000000</td>\n",
       "    </tr>\n",
       "    <tr>\n",
       "      <th>71</th>\n",
       "      <td>0.719036</td>\n",
       "      <td>-30.000000</td>\n",
       "      <td>0.000000</td>\n",
       "      <td>1.000000</td>\n",
       "    </tr>\n",
       "    <tr>\n",
       "      <th>70</th>\n",
       "      <td>0.707814</td>\n",
       "      <td>-30.000000</td>\n",
       "      <td>0.000000</td>\n",
       "      <td>1.000000</td>\n",
       "    </tr>\n",
       "    <tr>\n",
       "      <th>...</th>\n",
       "      <td>...</td>\n",
       "      <td>...</td>\n",
       "      <td>...</td>\n",
       "      <td>...</td>\n",
       "    </tr>\n",
       "    <tr>\n",
       "      <th>4</th>\n",
       "      <td>0.040316</td>\n",
       "      <td>-19.000000</td>\n",
       "      <td>15.779734</td>\n",
       "      <td>0.833333</td>\n",
       "    </tr>\n",
       "    <tr>\n",
       "      <th>3</th>\n",
       "      <td>0.030341</td>\n",
       "      <td>-16.888889</td>\n",
       "      <td>17.239776</td>\n",
       "      <td>0.750000</td>\n",
       "    </tr>\n",
       "    <tr>\n",
       "      <th>2</th>\n",
       "      <td>0.019950</td>\n",
       "      <td>-10.875000</td>\n",
       "      <td>18.943584</td>\n",
       "      <td>0.666667</td>\n",
       "    </tr>\n",
       "    <tr>\n",
       "      <th>1</th>\n",
       "      <td>0.010391</td>\n",
       "      <td>-6.428571</td>\n",
       "      <td>18.676625</td>\n",
       "      <td>0.583333</td>\n",
       "    </tr>\n",
       "    <tr>\n",
       "      <th>0</th>\n",
       "      <td>0.000000</td>\n",
       "      <td>12.000000</td>\n",
       "      <td>0.000000</td>\n",
       "      <td>0.083333</td>\n",
       "    </tr>\n",
       "  </tbody>\n",
       "</table>\n",
       "<p>100 rows × 4 columns</p>\n",
       "</div>"
      ],
      "text/plain": [
       "         FPR  Mean Delay  Std Delay  Found Percent\n",
       "99  1.000000  -30.000000   0.000000       1.000000\n",
       "73  0.737739  -30.000000   0.000000       1.000000\n",
       "72  0.726101  -30.000000   0.000000       1.000000\n",
       "71  0.719036  -30.000000   0.000000       1.000000\n",
       "70  0.707814  -30.000000   0.000000       1.000000\n",
       "..       ...         ...        ...            ...\n",
       "4   0.040316  -19.000000  15.779734       0.833333\n",
       "3   0.030341  -16.888889  17.239776       0.750000\n",
       "2   0.019950  -10.875000  18.943584       0.666667\n",
       "1   0.010391   -6.428571  18.676625       0.583333\n",
       "0   0.000000   12.000000   0.000000       0.083333\n",
       "\n",
       "[100 rows x 4 columns]"
      ]
     },
     "execution_count": 28,
     "metadata": {},
     "output_type": "execute_result"
    }
   ],
   "source": [
    "delay_df.sort_values(by='Mean Delay')"
   ]
  },
  {
   "cell_type": "code",
   "execution_count": 29,
   "metadata": {},
   "outputs": [
    {
     "data": {
      "image/png": "[encoded data removed]",
      "text/plain": [
       "<Figure size 640x480 with 1 Axes>"
      ]
     },
     "metadata": {},
     "output_type": "display_data"
    }
   ],
   "source": [
    "x_values = delay_df['FPR']\n",
    "y_values = delay_df['Mean Delay'] / 2\n",
    "std_values = delay_df['Std Delay'] / 2\n",
    "\n",
    "plt.plot(x_values, y_values, color='blue', label='RSTAE', marker='x')\n",
    "\n",
    "lower_bound = y_values - std_values  # 1.96 is the z-score for 95% confidence interval\n",
    "upper_bound = y_values + std_values\n",
    "\n",
    "plt.fill_between(x_values, lower_bound, upper_bound, color='blue', alpha=0.2)\n",
    "plt.ylim(-16, 16)\n",
    "# plt.xlim(-0.01,1)\n",
    "plt.xlabel(\"False Positive Rate (%)\")\n",
    "plt.ylabel(\"Detection Delay (min)\")\n",
    "plt.title(\"Crash Detection and False Positive Tradeoff\")\n",
    "plt.legend()\n",
    "plt.show()"
   ]
  },
  {
   "cell_type": "code",
   "execution_count": 30,
   "metadata": {},
   "outputs": [
    {
     "name": "stderr",
     "output_type": "stream",
     "text": [
      "100%|██████████| 1000/1000 [00:31<00:00, 31.89it/s]"
     ]
    },
    {
     "name": "stdout",
     "output_type": "stream",
     "text": [
      "Found FPR of 0.010390689941812137 for 0.01\n",
      "Found FPR of 0.02493765586034913 for 0.025\n",
      "Found FPR of 0.04987531172069826 for 0.05\n",
      "Found FPR of 0.10099750623441396 for 0.1\n",
      "Found FPR of 0.20116375727348296 for 0.2\n",
      "FPR 1% gives mean delay of -3.2142857142857144 +/- 9.33831256880241 while missing 0.41666666666666663%.\n",
      "FPR 2.5% gives mean delay of -7.0 +/- 8.488554385497896 while missing 0.25%.\n",
      "FPR 5% gives mean delay of -9.727272727272727 +/- 7.5569463420437835 while missing 0.08333333333333337%.\n",
      "FPR 10% gives mean delay of -9.863636363636363 +/- 7.36419750948314 while missing 0.08333333333333337%.\n",
      "FPR 20% gives mean delay of -12.833333333333334 +/- 2.5603819159562025 while missing 0.0%.\n"
     ]
    },
    {
     "name": "stderr",
     "output_type": "stream",
     "text": [
      "\n"
     ]
    }
   ],
   "source": [
    "discrete_fp_delays(thresh, test_errors, anomaly_labels, crash_reported)"
   ]
  },
  {
   "cell_type": "markdown",
   "metadata": {},
   "source": [
    "### Compute AUC"
   ]
  },
  {
   "cell_type": "code",
   "execution_count": 21,
   "metadata": {},
   "outputs": [
    {
     "data": {
      "text/plain": [
       "0.6725597429788462"
      ]
     },
     "execution_count": 21,
     "metadata": {},
     "output_type": "execute_result"
    }
   ],
   "source": [
    "calculate_auc(test_errors, anomaly_labels)"
   ]
  },
  {
   "cell_type": "code",
   "execution_count": 56,
   "metadata": {},
   "outputs": [
    {
     "data": {
      "text/plain": [
       "(932372,)"
      ]
     },
     "execution_count": 56,
     "metadata": {},
     "output_type": "execute_result"
    }
   ],
   "source": [
    "anomaly_labels.shape"
   ]
  },
  {
   "cell_type": "markdown",
   "metadata": {},
   "source": [
    "### Copmute Detection Delay Histogram on Full Dataset"
   ]
  },
  {
   "cell_type": "code",
   "execution_count": 32,
   "metadata": {},
   "outputs": [],
   "source": [
    "_, _, full_data = get_full_data()\n",
    "full_data = normalize_data(full_data)\n",
    "full_data = label_anomalies(full_data)"
   ]
  },
  {
   "cell_type": "code",
   "execution_count": 33,
   "metadata": {},
   "outputs": [
    {
     "name": "stderr",
     "output_type": "stream",
     "text": [
      "  0%|          | 10/18232 [00:00<03:25, 88.67it/s]"
     ]
    },
    {
     "name": "stderr",
     "output_type": "stream",
     "text": [
      "100%|██████████| 18232/18232 [04:49<00:00, 62.98it/s]\n"
     ]
    }
   ],
   "source": [
    "full_sequence, kept_full_indices = sequence_stae(full_data, training_params.timesteps, hide_anomalies=False)"
   ]
  },
  {
   "cell_type": "code",
   "execution_count": 34,
   "metadata": {},
   "outputs": [],
   "source": [
    "full_errors, _, _ = test_rstae(full_sequence, mse_weights, ae)"
   ]
  },
  {
   "cell_type": "code",
   "execution_count": 35,
   "metadata": {},
   "outputs": [
    {
     "name": "stderr",
     "output_type": "stream",
     "text": [
      "/media/vanderbilt/home/zulqarnain/freeway-anomaly-detection/code/metrics.py:28: SettingWithCopyWarning: \n",
      "A value is trying to be set on a copy of a slice from a DataFrame\n",
      "\n",
      "See the caveats in the documentation: https://pandas.pydata.org/pandas-docs/stable/user_guide/indexing.html#returning-a-view-versus-a-copy\n",
      "  test_data.fillna(0, inplace=True)\n"
     ]
    }
   ],
   "source": [
    "full_anomalies = generate_anomaly_labels(full_data, kept_full_indices)\n",
    "crash_reported = full_data['crash_record'].to_numpy()[0::196][kept_full_indices]"
   ]
  },
  {
   "cell_type": "code",
   "execution_count": 36,
   "metadata": {},
   "outputs": [
    {
     "name": "stderr",
     "output_type": "stream",
     "text": [
      "100%|██████████| 1000/1000 [01:56<00:00,  8.61it/s]\n"
     ]
    }
   ],
   "source": [
    "full_thresholds = find_thresholds(thresh, full_errors, full_anomalies)"
   ]
  },
  {
   "cell_type": "code",
   "execution_count": 37,
   "metadata": {},
   "outputs": [
    {
     "name": "stdout",
     "output_type": "stream",
     "text": [
      "Found FPR of 0.10149359049747148 for 0.1\n"
     ]
    }
   ],
   "source": [
    "offset = find_percent(full_thresholds, 10)\n",
    "full_anomaly_pred = threshold_anomalies(thresh+offset, full_errors)\n"
   ]
  },
  {
   "cell_type": "code",
   "execution_count": 38,
   "metadata": {},
   "outputs": [],
   "source": [
    "delay, found = crash_detection_delay(full_anomaly_pred, crash_reported)"
   ]
  },
  {
   "cell_type": "code",
   "execution_count": 39,
   "metadata": {},
   "outputs": [
    {
     "data": {
      "text/plain": [
       "<matplotlib.legend.Legend at 0x7fb4e69a6c10>"
      ]
     },
     "execution_count": 39,
     "metadata": {},
     "output_type": "execute_result"
    },
    {
     "data": {
      "image/png": "[encoded data removed]",
      "text/plain": [
       "<Figure size 640x480 with 1 Axes>"
      ]
     },
     "metadata": {},
     "output_type": "display_data"
    }
   ],
   "source": [
    "import seaborn as sns \n",
    "\n",
    "delay = delay + [30] * (len(found) - np.count_nonzero(found))\n",
    "\n",
    "sns.histplot(np.array(delay)/2, binwidth=1, alpha=0.5, label='rstae')\n",
    "plt.legend()"
   ]
  },
  {
   "cell_type": "code",
   "execution_count": 40,
   "metadata": {},
   "outputs": [],
   "source": [
    "np.save('./saved_results/stae10delays.npy', np.array(delay)/2)"
   ]
  },
  {
   "cell_type": "code",
   "execution_count": 41,
   "metadata": {},
   "outputs": [],
   "source": [
    "_, df_clean_test_data, _ = get_full_data()"
   ]
  },
  {
   "cell_type": "code",
   "execution_count": 42,
   "metadata": {},
   "outputs": [
    {
     "name": "stderr",
     "output_type": "stream",
     "text": [
      "  0%|          | 0/4792 [00:00<?, ?it/s]"
     ]
    },
    {
     "name": "stderr",
     "output_type": "stream",
     "text": [
      "100%|██████████| 4792/4792 [00:26<00:00, 179.11it/s]\n"
     ]
    }
   ],
   "source": [
    "clean_test_data = normalize_data(df_clean_test_data)\n",
    "clean_test_data = label_anomalies(clean_test_data)\n",
    "clean_test_data, kept_test_indices = sequence_stae(clean_test_data, training_params.timesteps, hide_anomalies=True)"
   ]
  },
  {
   "cell_type": "code",
   "execution_count": 43,
   "metadata": {},
   "outputs": [],
   "source": [
    "clean_test_errors, test_recons_speeds, test_true_speeds = test_rstae(clean_test_data, mse_weights, ae)"
   ]
  },
  {
   "cell_type": "code",
   "execution_count": 44,
   "metadata": {},
   "outputs": [
    {
     "data": {
      "text/plain": [
       "0.011401049"
      ]
     },
     "execution_count": 44,
     "metadata": {},
     "output_type": "execute_result"
    }
   ],
   "source": [
    "np.mean(clean_test_errors)"
   ]
  },
  {
   "cell_type": "code",
   "execution_count": 45,
   "metadata": {},
   "outputs": [],
   "source": [
    "# data = fill_result_df(anomalies_10, test_true_speeds, test_recons_speeds, training_params.timesteps)"
   ]
  },
  {
   "cell_type": "code",
   "execution_count": 46,
   "metadata": {},
   "outputs": [],
   "source": [
    "# data.to_csv('./saved_results/full_results_test_rstae.csv')"
   ]
  },
  {
   "cell_type": "code",
   "execution_count": 47,
   "metadata": {},
   "outputs": [],
   "source": [
    "# import pandas as pd\n",
    "# import matplotlib.pyplot as plt\n",
    "# import matplotlib.dates as mdates\n",
    "\n",
    "# data = pd.read_csv('./saved_results/full_results_test_rstae.csv', index_col=0)\n",
    "# data['Time Index'] = pd.to_datetime(data['Time Index'] * 30, unit='s')\n",
    "# plt.figure(figsize=(16,4), facecolor='white')\n",
    "# plt.rc('font', family='serif', size=15)\n",
    "# lane = data[data.Lane == 1]\n",
    "# # plt.scatter(lane['Time Index'].values , lane.Milemarker.values, \n",
    "# #                             c=lane['Reconstructed Speed'].values,marker='s',s=1, cmap='RdYlGn')\n",
    "# plt.scatter(lane['Time Index'].values , lane.Milemarker.values, \n",
    "#                             c=np.abs(lane['Reconstructed Speed'].values-lane['Speed']),marker='s',s=1, cmap='viridis')\n",
    "# plt.gca().invert_yaxis()\n",
    "# plt.gca().xaxis.set_major_formatter(mdates.DateFormatter('%H:%M'))\n",
    "# plt.title(\"Reconstructed Speeds Lane 1 Thursday, Oct 26, Morning\")\n",
    "# plt.xlabel(\"Time of Day\")\n",
    "# plt.ylabel(\"Milemarker\")\n",
    "# plt.show()"
   ]
  },
  {
   "cell_type": "code",
   "execution_count": 48,
   "metadata": {},
   "outputs": [],
   "source": [
    "# from matplotlib.ticker import MultipleLocator\n",
    "\n",
    "# plt.figure(figsize=(16,4), facecolor='white')\n",
    "# plt.rc('font', family='serif', size=15)\n",
    "# lane = data[data.Lane == 1]\n",
    "# plt.scatter(lane['Time Index'].values , lane.Milemarker.values, \n",
    "#                             c=lane['Speed'].values,marker='s',s=1, cmap='RdYlGn')\n",
    "# plt.gca().invert_yaxis()\n",
    "# # plt.gca().xaxis.set_major_locator(MultipleLocator(0.01))\n",
    "# plt.gca().xaxis.set_major_formatter(mdates.DateFormatter('%H:%M'))\n",
    "\n",
    "# # Set x-axis limits\n",
    "# start_time = pd.to_datetime('1970-01-01 09:30:00')\n",
    "# end_time = pd.to_datetime('1970-01-01 09:50:00')\n",
    "# # plt.xlim(start_time, end_time)\n",
    "# # plt.ylim()\n",
    "\n",
    "# plt.title(\"True Speeds Lane 1 Thursday, Oct 26, Morning\")\n",
    "# plt.xlabel(\"Time of Day\")\n",
    "# plt.ylabel(\"Milemarker\")\n",
    "# plt.show()"
   ]
  },
  {
   "cell_type": "code",
   "execution_count": 49,
   "metadata": {},
   "outputs": [],
   "source": [
    "# plt.figure(figsize=(16,4), facecolor='white')\n",
    "# plt.rc('font', family='serif', size=15)\n",
    "# lane = data[data.Lane == 1]\n",
    "# plt.scatter(lane['Time Index'].values , lane.Milemarker.values, \n",
    "#                             c=lane['Anomaly'].values,marker='s',s=1, cmap='viridis', label='Nominal')\n",
    "# plt.gca().invert_yaxis()\n",
    "# # plt.gca().xaxis.set_major_locator(MultipleLocator(0.5))\n",
    "# plt.gca().xaxis.set_major_formatter(mdates.DateFormatter('%H:%M'))\n",
    "# # Set x-axis limits\n",
    "# start_time = pd.to_datetime('1970-01-01 08:00:00')\n",
    "# end_time = pd.to_datetime('1970-01-01 11:00:00')\n",
    "# # plt.xlim(start_time, end_time)\n",
    "\n",
    "# # Add vertical line at '1970-01-01 09:39:22'\n",
    "# vline_time = pd.to_datetime('1970-01-01 09:39:22')\n",
    "# plt.axvline(x=vline_time, color='red', linestyle='--', linewidth=2, label='Crash Reported', alpha=0.25)\n",
    "# plt.axhline(y=62.2, color='red', linestyle='--', alpha=0.25)\n",
    "# # plt.ylim(60,65)\n",
    "# plt.legend(loc='upper right')\n",
    "# plt.title(\"Anomaly Detection Lane 1 Thursday Oct 26, Morning\")\n",
    "# plt.xlabel(\"Time of Day\")\n",
    "# plt.ylabel(\"Milemarker\")\n",
    "# plt.show()"
   ]
  },
  {
   "cell_type": "code",
   "execution_count": 7,
   "metadata": {},
   "outputs": [
    {
     "data": {
      "text/html": [
       "<div>\n",
       "<style scoped>\n",
       "    .dataframe tbody tr th:only-of-type {\n",
       "        vertical-align: middle;\n",
       "    }\n",
       "\n",
       "    .dataframe tbody tr th {\n",
       "        vertical-align: top;\n",
       "    }\n",
       "\n",
       "    .dataframe thead th {\n",
       "        text-align: right;\n",
       "    }\n",
       "</style>\n",
       "<table border=\"1\" class=\"dataframe\">\n",
       "  <thead>\n",
       "    <tr style=\"text-align: right;\">\n",
       "      <th></th>\n",
       "      <th>number</th>\n",
       "      <th>value</th>\n",
       "      <th>datetime_start</th>\n",
       "      <th>datetime_complete</th>\n",
       "      <th>duration</th>\n",
       "      <th>params_dropout_rate</th>\n",
       "      <th>params_epochs</th>\n",
       "      <th>params_flow_layers</th>\n",
       "      <th>params_hidden_dim</th>\n",
       "      <th>params_learning_rate</th>\n",
       "      <th>params_n_hidden_flow</th>\n",
       "      <th>params_num_gcn_layers</th>\n",
       "      <th>params_num_transformer_layers</th>\n",
       "      <th>params_output_dim</th>\n",
       "      <th>params_timesteps</th>\n",
       "      <th>state</th>\n",
       "    </tr>\n",
       "  </thead>\n",
       "  <tbody>\n",
       "    <tr>\n",
       "      <th>0</th>\n",
       "      <td>0</td>\n",
       "      <td>1.869905e+02</td>\n",
       "      <td>2024-11-25 17:02:00.461837</td>\n",
       "      <td>2024-11-25 19:09:38.225282</td>\n",
       "      <td>0 days 02:07:37.763445</td>\n",
       "      <td>0.016374</td>\n",
       "      <td>8</td>\n",
       "      <td>3</td>\n",
       "      <td>64</td>\n",
       "      <td>0.000002</td>\n",
       "      <td>1</td>\n",
       "      <td>2</td>\n",
       "      <td>2</td>\n",
       "      <td>64</td>\n",
       "      <td>3</td>\n",
       "      <td>COMPLETE</td>\n",
       "    </tr>\n",
       "    <tr>\n",
       "      <th>1</th>\n",
       "      <td>1</td>\n",
       "      <td>-4.549376e+00</td>\n",
       "      <td>2024-11-25 22:16:25.704920</td>\n",
       "      <td>2024-11-26 00:32:15.038976</td>\n",
       "      <td>0 days 02:15:49.334056</td>\n",
       "      <td>0.335803</td>\n",
       "      <td>5</td>\n",
       "      <td>2</td>\n",
       "      <td>256</td>\n",
       "      <td>0.000003</td>\n",
       "      <td>4</td>\n",
       "      <td>1</td>\n",
       "      <td>1</td>\n",
       "      <td>64</td>\n",
       "      <td>5</td>\n",
       "      <td>COMPLETE</td>\n",
       "    </tr>\n",
       "    <tr>\n",
       "      <th>2</th>\n",
       "      <td>2</td>\n",
       "      <td>-3.168887e+01</td>\n",
       "      <td>2024-11-25 22:16:25.790262</td>\n",
       "      <td>2024-11-26 01:05:16.072673</td>\n",
       "      <td>0 days 02:48:50.282411</td>\n",
       "      <td>0.341284</td>\n",
       "      <td>5</td>\n",
       "      <td>4</td>\n",
       "      <td>16</td>\n",
       "      <td>0.000004</td>\n",
       "      <td>4</td>\n",
       "      <td>5</td>\n",
       "      <td>1</td>\n",
       "      <td>32</td>\n",
       "      <td>10</td>\n",
       "      <td>COMPLETE</td>\n",
       "    </tr>\n",
       "    <tr>\n",
       "      <th>3</th>\n",
       "      <td>3</td>\n",
       "      <td>-2.092916e+01</td>\n",
       "      <td>2024-11-26 00:32:15.133354</td>\n",
       "      <td>2024-11-26 02:38:16.167430</td>\n",
       "      <td>0 days 02:06:01.034076</td>\n",
       "      <td>0.292964</td>\n",
       "      <td>7</td>\n",
       "      <td>4</td>\n",
       "      <td>64</td>\n",
       "      <td>0.000040</td>\n",
       "      <td>1</td>\n",
       "      <td>2</td>\n",
       "      <td>2</td>\n",
       "      <td>128</td>\n",
       "      <td>3</td>\n",
       "      <td>COMPLETE</td>\n",
       "    </tr>\n",
       "    <tr>\n",
       "      <th>4</th>\n",
       "      <td>4</td>\n",
       "      <td>7.191986e+05</td>\n",
       "      <td>2024-11-26 01:05:16.177481</td>\n",
       "      <td>2024-11-26 03:41:23.810708</td>\n",
       "      <td>0 days 02:36:07.633227</td>\n",
       "      <td>0.018475</td>\n",
       "      <td>5</td>\n",
       "      <td>1</td>\n",
       "      <td>16</td>\n",
       "      <td>0.000093</td>\n",
       "      <td>1</td>\n",
       "      <td>5</td>\n",
       "      <td>1</td>\n",
       "      <td>64</td>\n",
       "      <td>10</td>\n",
       "      <td>COMPLETE</td>\n",
       "    </tr>\n",
       "    <tr>\n",
       "      <th>5</th>\n",
       "      <td>5</td>\n",
       "      <td>-8.097610e-01</td>\n",
       "      <td>2024-11-26 02:38:16.261178</td>\n",
       "      <td>2024-11-26 04:03:41.026855</td>\n",
       "      <td>0 days 01:25:24.765677</td>\n",
       "      <td>0.020236</td>\n",
       "      <td>3</td>\n",
       "      <td>3</td>\n",
       "      <td>16</td>\n",
       "      <td>0.000127</td>\n",
       "      <td>4</td>\n",
       "      <td>1</td>\n",
       "      <td>2</td>\n",
       "      <td>128</td>\n",
       "      <td>8</td>\n",
       "      <td>COMPLETE</td>\n",
       "    </tr>\n",
       "    <tr>\n",
       "      <th>6</th>\n",
       "      <td>6</td>\n",
       "      <td>1.180272e+01</td>\n",
       "      <td>2024-11-26 03:41:23.916641</td>\n",
       "      <td>2024-11-26 06:26:45.606140</td>\n",
       "      <td>0 days 02:45:21.689499</td>\n",
       "      <td>0.204185</td>\n",
       "      <td>8</td>\n",
       "      <td>5</td>\n",
       "      <td>128</td>\n",
       "      <td>0.000001</td>\n",
       "      <td>1</td>\n",
       "      <td>4</td>\n",
       "      <td>1</td>\n",
       "      <td>64</td>\n",
       "      <td>4</td>\n",
       "      <td>COMPLETE</td>\n",
       "    </tr>\n",
       "    <tr>\n",
       "      <th>7</th>\n",
       "      <td>7</td>\n",
       "      <td>inf</td>\n",
       "      <td>2024-11-26 04:03:41.119619</td>\n",
       "      <td>2024-11-26 04:17:42.916629</td>\n",
       "      <td>0 days 00:14:01.797010</td>\n",
       "      <td>0.174938</td>\n",
       "      <td>7</td>\n",
       "      <td>4</td>\n",
       "      <td>256</td>\n",
       "      <td>0.007500</td>\n",
       "      <td>5</td>\n",
       "      <td>5</td>\n",
       "      <td>2</td>\n",
       "      <td>32</td>\n",
       "      <td>6</td>\n",
       "      <td>COMPLETE</td>\n",
       "    </tr>\n",
       "    <tr>\n",
       "      <th>8</th>\n",
       "      <td>8</td>\n",
       "      <td>-1.567735e+01</td>\n",
       "      <td>2024-11-26 04:17:43.017186</td>\n",
       "      <td>2024-11-26 07:15:29.225110</td>\n",
       "      <td>0 days 02:57:46.207924</td>\n",
       "      <td>0.402693</td>\n",
       "      <td>8</td>\n",
       "      <td>1</td>\n",
       "      <td>256</td>\n",
       "      <td>0.000274</td>\n",
       "      <td>4</td>\n",
       "      <td>1</td>\n",
       "      <td>2</td>\n",
       "      <td>64</td>\n",
       "      <td>4</td>\n",
       "      <td>COMPLETE</td>\n",
       "    </tr>\n",
       "    <tr>\n",
       "      <th>9</th>\n",
       "      <td>9</td>\n",
       "      <td>-2.919407e+00</td>\n",
       "      <td>2024-11-26 06:26:45.700439</td>\n",
       "      <td>2024-11-26 10:12:28.123557</td>\n",
       "      <td>0 days 03:45:42.423118</td>\n",
       "      <td>0.042884</td>\n",
       "      <td>9</td>\n",
       "      <td>5</td>\n",
       "      <td>128</td>\n",
       "      <td>0.000011</td>\n",
       "      <td>3</td>\n",
       "      <td>5</td>\n",
       "      <td>2</td>\n",
       "      <td>64</td>\n",
       "      <td>2</td>\n",
       "      <td>COMPLETE</td>\n",
       "    </tr>\n",
       "    <tr>\n",
       "      <th>10</th>\n",
       "      <td>10</td>\n",
       "      <td>6.840398e+01</td>\n",
       "      <td>2024-11-26 07:15:29.313280</td>\n",
       "      <td>2024-11-26 10:39:29.067425</td>\n",
       "      <td>0 days 03:23:59.754145</td>\n",
       "      <td>0.387006</td>\n",
       "      <td>9</td>\n",
       "      <td>4</td>\n",
       "      <td>32</td>\n",
       "      <td>0.000116</td>\n",
       "      <td>5</td>\n",
       "      <td>5</td>\n",
       "      <td>2</td>\n",
       "      <td>128</td>\n",
       "      <td>2</td>\n",
       "      <td>COMPLETE</td>\n",
       "    </tr>\n",
       "    <tr>\n",
       "      <th>11</th>\n",
       "      <td>11</td>\n",
       "      <td>-1.017437e+01</td>\n",
       "      <td>2024-11-26 10:12:28.221059</td>\n",
       "      <td>2024-11-26 10:57:36.921837</td>\n",
       "      <td>0 days 00:45:08.700778</td>\n",
       "      <td>0.490251</td>\n",
       "      <td>1</td>\n",
       "      <td>4</td>\n",
       "      <td>32</td>\n",
       "      <td>0.000010</td>\n",
       "      <td>3</td>\n",
       "      <td>3</td>\n",
       "      <td>1</td>\n",
       "      <td>32</td>\n",
       "      <td>10</td>\n",
       "      <td>COMPLETE</td>\n",
       "    </tr>\n",
       "    <tr>\n",
       "      <th>12</th>\n",
       "      <td>12</td>\n",
       "      <td>-2.405102e+01</td>\n",
       "      <td>2024-11-26 10:39:29.156789</td>\n",
       "      <td>2024-11-26 11:17:23.053514</td>\n",
       "      <td>0 days 00:37:53.896725</td>\n",
       "      <td>0.471799</td>\n",
       "      <td>1</td>\n",
       "      <td>4</td>\n",
       "      <td>64</td>\n",
       "      <td>0.000014</td>\n",
       "      <td>2</td>\n",
       "      <td>3</td>\n",
       "      <td>1</td>\n",
       "      <td>32</td>\n",
       "      <td>8</td>\n",
       "      <td>COMPLETE</td>\n",
       "    </tr>\n",
       "    <tr>\n",
       "      <th>13</th>\n",
       "      <td>13</td>\n",
       "      <td>7.644813e+03</td>\n",
       "      <td>2024-11-26 10:57:37.018040</td>\n",
       "      <td>2024-11-26 13:11:39.022505</td>\n",
       "      <td>0 days 02:14:02.004465</td>\n",
       "      <td>0.274674</td>\n",
       "      <td>6</td>\n",
       "      <td>4</td>\n",
       "      <td>64</td>\n",
       "      <td>0.000012</td>\n",
       "      <td>2</td>\n",
       "      <td>3</td>\n",
       "      <td>1</td>\n",
       "      <td>16</td>\n",
       "      <td>7</td>\n",
       "      <td>COMPLETE</td>\n",
       "    </tr>\n",
       "    <tr>\n",
       "      <th>14</th>\n",
       "      <td>14</td>\n",
       "      <td>1.501533e+01</td>\n",
       "      <td>2024-11-26 11:17:23.170008</td>\n",
       "      <td>2024-11-26 11:54:06.332729</td>\n",
       "      <td>0 days 00:36:43.162721</td>\n",
       "      <td>0.486090</td>\n",
       "      <td>1</td>\n",
       "      <td>5</td>\n",
       "      <td>64</td>\n",
       "      <td>0.000008</td>\n",
       "      <td>2</td>\n",
       "      <td>3</td>\n",
       "      <td>1</td>\n",
       "      <td>32</td>\n",
       "      <td>8</td>\n",
       "      <td>COMPLETE</td>\n",
       "    </tr>\n",
       "    <tr>\n",
       "      <th>15</th>\n",
       "      <td>15</td>\n",
       "      <td>9.378110e+01</td>\n",
       "      <td>2024-11-26 11:54:06.414540</td>\n",
       "      <td>2024-11-26 13:03:01.053135</td>\n",
       "      <td>0 days 01:08:54.638595</td>\n",
       "      <td>0.410948</td>\n",
       "      <td>3</td>\n",
       "      <td>3</td>\n",
       "      <td>16</td>\n",
       "      <td>0.000004</td>\n",
       "      <td>2</td>\n",
       "      <td>4</td>\n",
       "      <td>1</td>\n",
       "      <td>16</td>\n",
       "      <td>8</td>\n",
       "      <td>COMPLETE</td>\n",
       "    </tr>\n",
       "    <tr>\n",
       "      <th>16</th>\n",
       "      <td>16</td>\n",
       "      <td>-1.224720e+01</td>\n",
       "      <td>2024-11-26 13:03:01.139970</td>\n",
       "      <td>2024-11-26 14:42:07.532577</td>\n",
       "      <td>0 days 01:39:06.392607</td>\n",
       "      <td>0.321087</td>\n",
       "      <td>3</td>\n",
       "      <td>2</td>\n",
       "      <td>64</td>\n",
       "      <td>0.000017</td>\n",
       "      <td>2</td>\n",
       "      <td>4</td>\n",
       "      <td>1</td>\n",
       "      <td>32</td>\n",
       "      <td>9</td>\n",
       "      <td>COMPLETE</td>\n",
       "    </tr>\n",
       "    <tr>\n",
       "      <th>17</th>\n",
       "      <td>17</td>\n",
       "      <td>-9.802221e+00</td>\n",
       "      <td>2024-11-26 13:11:39.125775</td>\n",
       "      <td>2024-11-26 14:36:15.083615</td>\n",
       "      <td>0 days 01:24:35.957840</td>\n",
       "      <td>0.449883</td>\n",
       "      <td>3</td>\n",
       "      <td>2</td>\n",
       "      <td>16</td>\n",
       "      <td>0.000001</td>\n",
       "      <td>3</td>\n",
       "      <td>4</td>\n",
       "      <td>1</td>\n",
       "      <td>32</td>\n",
       "      <td>9</td>\n",
       "      <td>COMPLETE</td>\n",
       "    </tr>\n",
       "    <tr>\n",
       "      <th>18</th>\n",
       "      <td>18</td>\n",
       "      <td>9.422694e+03</td>\n",
       "      <td>2024-11-26 14:36:15.285087</td>\n",
       "      <td>2024-11-26 16:26:37.359534</td>\n",
       "      <td>0 days 01:50:22.074447</td>\n",
       "      <td>0.352234</td>\n",
       "      <td>4</td>\n",
       "      <td>2</td>\n",
       "      <td>64</td>\n",
       "      <td>0.000025</td>\n",
       "      <td>4</td>\n",
       "      <td>2</td>\n",
       "      <td>1</td>\n",
       "      <td>32</td>\n",
       "      <td>9</td>\n",
       "      <td>COMPLETE</td>\n",
       "    </tr>\n",
       "    <tr>\n",
       "      <th>19</th>\n",
       "      <td>19</td>\n",
       "      <td>5.025258e+02</td>\n",
       "      <td>2024-11-26 14:42:07.665605</td>\n",
       "      <td>2024-11-26 16:40:51.523673</td>\n",
       "      <td>0 days 01:58:43.858068</td>\n",
       "      <td>0.357113</td>\n",
       "      <td>4</td>\n",
       "      <td>3</td>\n",
       "      <td>16</td>\n",
       "      <td>0.000005</td>\n",
       "      <td>4</td>\n",
       "      <td>2</td>\n",
       "      <td>1</td>\n",
       "      <td>32</td>\n",
       "      <td>7</td>\n",
       "      <td>COMPLETE</td>\n",
       "    </tr>\n",
       "    <tr>\n",
       "      <th>20</th>\n",
       "      <td>20</td>\n",
       "      <td>-1.461955e+01</td>\n",
       "      <td>2024-11-26 16:26:37.547503</td>\n",
       "      <td>2024-11-26 17:16:00.785953</td>\n",
       "      <td>0 days 00:49:23.238450</td>\n",
       "      <td>0.435487</td>\n",
       "      <td>2</td>\n",
       "      <td>3</td>\n",
       "      <td>16</td>\n",
       "      <td>0.000005</td>\n",
       "      <td>5</td>\n",
       "      <td>2</td>\n",
       "      <td>1</td>\n",
       "      <td>32</td>\n",
       "      <td>7</td>\n",
       "      <td>COMPLETE</td>\n",
       "    </tr>\n",
       "    <tr>\n",
       "      <th>21</th>\n",
       "      <td>21</td>\n",
       "      <td>-2.115979e+00</td>\n",
       "      <td>2024-11-26 16:40:51.621425</td>\n",
       "      <td>2024-11-26 21:53:10.092032</td>\n",
       "      <td>0 days 05:12:18.470607</td>\n",
       "      <td>0.433665</td>\n",
       "      <td>10</td>\n",
       "      <td>5</td>\n",
       "      <td>32</td>\n",
       "      <td>0.000003</td>\n",
       "      <td>3</td>\n",
       "      <td>4</td>\n",
       "      <td>1</td>\n",
       "      <td>32</td>\n",
       "      <td>10</td>\n",
       "      <td>COMPLETE</td>\n",
       "    </tr>\n",
       "    <tr>\n",
       "      <th>22</th>\n",
       "      <td>22</td>\n",
       "      <td>4.620501e+04</td>\n",
       "      <td>2024-11-26 17:16:00.873363</td>\n",
       "      <td>2024-11-26 19:48:50.382523</td>\n",
       "      <td>0 days 02:32:49.509160</td>\n",
       "      <td>0.279311</td>\n",
       "      <td>6</td>\n",
       "      <td>4</td>\n",
       "      <td>64</td>\n",
       "      <td>0.000034</td>\n",
       "      <td>1</td>\n",
       "      <td>3</td>\n",
       "      <td>2</td>\n",
       "      <td>128</td>\n",
       "      <td>6</td>\n",
       "      <td>COMPLETE</td>\n",
       "    </tr>\n",
       "    <tr>\n",
       "      <th>23</th>\n",
       "      <td>23</td>\n",
       "      <td>8.356456e+02</td>\n",
       "      <td>2024-11-26 19:48:50.470303</td>\n",
       "      <td>2024-11-27 01:07:20.760688</td>\n",
       "      <td>0 days 05:18:30.290385</td>\n",
       "      <td>0.304253</td>\n",
       "      <td>10</td>\n",
       "      <td>4</td>\n",
       "      <td>64</td>\n",
       "      <td>0.000030</td>\n",
       "      <td>2</td>\n",
       "      <td>2</td>\n",
       "      <td>2</td>\n",
       "      <td>128</td>\n",
       "      <td>10</td>\n",
       "      <td>COMPLETE</td>\n",
       "    </tr>\n",
       "    <tr>\n",
       "      <th>24</th>\n",
       "      <td>24</td>\n",
       "      <td>1.045633e+03</td>\n",
       "      <td>2024-11-26 21:53:10.193422</td>\n",
       "      <td>2024-11-27 00:32:54.111535</td>\n",
       "      <td>0 days 02:39:43.918113</td>\n",
       "      <td>0.383351</td>\n",
       "      <td>7</td>\n",
       "      <td>4</td>\n",
       "      <td>64</td>\n",
       "      <td>0.000038</td>\n",
       "      <td>2</td>\n",
       "      <td>2</td>\n",
       "      <td>2</td>\n",
       "      <td>128</td>\n",
       "      <td>5</td>\n",
       "      <td>COMPLETE</td>\n",
       "    </tr>\n",
       "    <tr>\n",
       "      <th>25</th>\n",
       "      <td>25</td>\n",
       "      <td>-2.280748e+01</td>\n",
       "      <td>2024-11-27 00:32:54.203124</td>\n",
       "      <td>2024-11-27 04:03:25.824990</td>\n",
       "      <td>0 days 03:30:31.621866</td>\n",
       "      <td>0.305505</td>\n",
       "      <td>7</td>\n",
       "      <td>4</td>\n",
       "      <td>64</td>\n",
       "      <td>0.000042</td>\n",
       "      <td>1</td>\n",
       "      <td>3</td>\n",
       "      <td>2</td>\n",
       "      <td>128</td>\n",
       "      <td>9</td>\n",
       "      <td>COMPLETE</td>\n",
       "    </tr>\n",
       "    <tr>\n",
       "      <th>26</th>\n",
       "      <td>26</td>\n",
       "      <td>1.602968e+07</td>\n",
       "      <td>2024-11-27 01:07:20.848297</td>\n",
       "      <td>2024-11-27 04:45:37.825019</td>\n",
       "      <td>0 days 03:38:16.976722</td>\n",
       "      <td>0.254595</td>\n",
       "      <td>7</td>\n",
       "      <td>5</td>\n",
       "      <td>128</td>\n",
       "      <td>0.000008</td>\n",
       "      <td>1</td>\n",
       "      <td>3</td>\n",
       "      <td>1</td>\n",
       "      <td>16</td>\n",
       "      <td>9</td>\n",
       "      <td>COMPLETE</td>\n",
       "    </tr>\n",
       "    <tr>\n",
       "      <th>27</th>\n",
       "      <td>27</td>\n",
       "      <td>1.047530e+00</td>\n",
       "      <td>2024-11-27 04:03:25.925158</td>\n",
       "      <td>2024-11-27 05:15:20.858510</td>\n",
       "      <td>0 days 01:11:54.933352</td>\n",
       "      <td>0.231433</td>\n",
       "      <td>2</td>\n",
       "      <td>5</td>\n",
       "      <td>128</td>\n",
       "      <td>0.000008</td>\n",
       "      <td>1</td>\n",
       "      <td>3</td>\n",
       "      <td>1</td>\n",
       "      <td>16</td>\n",
       "      <td>9</td>\n",
       "      <td>COMPLETE</td>\n",
       "    </tr>\n",
       "    <tr>\n",
       "      <th>28</th>\n",
       "      <td>28</td>\n",
       "      <td>-7.402895e+00</td>\n",
       "      <td>2024-11-27 04:45:37.920570</td>\n",
       "      <td>2024-11-27 05:47:46.034898</td>\n",
       "      <td>0 days 01:02:08.114328</td>\n",
       "      <td>0.356820</td>\n",
       "      <td>2</td>\n",
       "      <td>3</td>\n",
       "      <td>64</td>\n",
       "      <td>0.000001</td>\n",
       "      <td>2</td>\n",
       "      <td>4</td>\n",
       "      <td>1</td>\n",
       "      <td>32</td>\n",
       "      <td>8</td>\n",
       "      <td>COMPLETE</td>\n",
       "    </tr>\n",
       "    <tr>\n",
       "      <th>29</th>\n",
       "      <td>29</td>\n",
       "      <td>1.099705e+01</td>\n",
       "      <td>2024-11-27 05:15:20.947078</td>\n",
       "      <td>2024-11-27 07:20:08.329001</td>\n",
       "      <td>0 days 02:04:47.381923</td>\n",
       "      <td>0.367202</td>\n",
       "      <td>4</td>\n",
       "      <td>3</td>\n",
       "      <td>64</td>\n",
       "      <td>0.000002</td>\n",
       "      <td>2</td>\n",
       "      <td>4</td>\n",
       "      <td>2</td>\n",
       "      <td>32</td>\n",
       "      <td>8</td>\n",
       "      <td>COMPLETE</td>\n",
       "    </tr>\n",
       "    <tr>\n",
       "      <th>30</th>\n",
       "      <td>30</td>\n",
       "      <td>-1.487165e+01</td>\n",
       "      <td>2024-11-27 05:47:46.131599</td>\n",
       "      <td>2024-11-27 08:23:56.448026</td>\n",
       "      <td>0 days 02:36:10.316427</td>\n",
       "      <td>0.475779</td>\n",
       "      <td>4</td>\n",
       "      <td>4</td>\n",
       "      <td>64</td>\n",
       "      <td>0.000002</td>\n",
       "      <td>3</td>\n",
       "      <td>3</td>\n",
       "      <td>2</td>\n",
       "      <td>128</td>\n",
       "      <td>10</td>\n",
       "      <td>COMPLETE</td>\n",
       "    </tr>\n",
       "    <tr>\n",
       "      <th>31</th>\n",
       "      <td>31</td>\n",
       "      <td>-3.174124e+01</td>\n",
       "      <td>2024-11-27 07:20:08.429721</td>\n",
       "      <td>2024-11-27 10:33:52.769706</td>\n",
       "      <td>0 days 03:13:44.339985</td>\n",
       "      <td>0.326091</td>\n",
       "      <td>6</td>\n",
       "      <td>4</td>\n",
       "      <td>16</td>\n",
       "      <td>0.000003</td>\n",
       "      <td>3</td>\n",
       "      <td>3</td>\n",
       "      <td>2</td>\n",
       "      <td>128</td>\n",
       "      <td>10</td>\n",
       "      <td>COMPLETE</td>\n",
       "    </tr>\n",
       "    <tr>\n",
       "      <th>32</th>\n",
       "      <td>32</td>\n",
       "      <td>-2.560840e+01</td>\n",
       "      <td>2024-11-27 08:23:56.545976</td>\n",
       "      <td>2024-11-27 10:19:28.725410</td>\n",
       "      <td>0 days 01:55:32.179434</td>\n",
       "      <td>0.296656</td>\n",
       "      <td>6</td>\n",
       "      <td>4</td>\n",
       "      <td>64</td>\n",
       "      <td>0.000055</td>\n",
       "      <td>1</td>\n",
       "      <td>3</td>\n",
       "      <td>2</td>\n",
       "      <td>128</td>\n",
       "      <td>3</td>\n",
       "      <td>COMPLETE</td>\n",
       "    </tr>\n",
       "    <tr>\n",
       "      <th>33</th>\n",
       "      <td>33</td>\n",
       "      <td>1.791922e+06</td>\n",
       "      <td>2024-11-27 10:19:28.864672</td>\n",
       "      <td>2024-11-27 12:49:49.595905</td>\n",
       "      <td>0 days 02:30:20.731233</td>\n",
       "      <td>0.318613</td>\n",
       "      <td>6</td>\n",
       "      <td>4</td>\n",
       "      <td>64</td>\n",
       "      <td>0.000018</td>\n",
       "      <td>1</td>\n",
       "      <td>3</td>\n",
       "      <td>2</td>\n",
       "      <td>128</td>\n",
       "      <td>6</td>\n",
       "      <td>COMPLETE</td>\n",
       "    </tr>\n",
       "    <tr>\n",
       "      <th>34</th>\n",
       "      <td>34</td>\n",
       "      <td>-3.062243e+01</td>\n",
       "      <td>2024-11-27 10:33:52.860587</td>\n",
       "      <td>2024-11-27 12:39:25.920685</td>\n",
       "      <td>0 days 02:05:33.060098</td>\n",
       "      <td>0.324243</td>\n",
       "      <td>6</td>\n",
       "      <td>4</td>\n",
       "      <td>16</td>\n",
       "      <td>0.000002</td>\n",
       "      <td>3</td>\n",
       "      <td>3</td>\n",
       "      <td>2</td>\n",
       "      <td>128</td>\n",
       "      <td>3</td>\n",
       "      <td>COMPLETE</td>\n",
       "    </tr>\n",
       "  </tbody>\n",
       "</table>\n",
       "</div>"
      ],
      "text/plain": [
       "    number         value             datetime_start  \\\n",
       "0        0  1.869905e+02 2024-11-25 17:02:00.461837   \n",
       "1        1 -4.549376e+00 2024-11-25 22:16:25.704920   \n",
       "2        2 -3.168887e+01 2024-11-25 22:16:25.790262   \n",
       "3        3 -2.092916e+01 2024-11-26 00:32:15.133354   \n",
       "4        4  7.191986e+05 2024-11-26 01:05:16.177481   \n",
       "5        5 -8.097610e-01 2024-11-26 02:38:16.261178   \n",
       "6        6  1.180272e+01 2024-11-26 03:41:23.916641   \n",
       "7        7           inf 2024-11-26 04:03:41.119619   \n",
       "8        8 -1.567735e+01 2024-11-26 04:17:43.017186   \n",
       "9        9 -2.919407e+00 2024-11-26 06:26:45.700439   \n",
       "10      10  6.840398e+01 2024-11-26 07:15:29.313280   \n",
       "11      11 -1.017437e+01 2024-11-26 10:12:28.221059   \n",
       "12      12 -2.405102e+01 2024-11-26 10:39:29.156789   \n",
       "13      13  7.644813e+03 2024-11-26 10:57:37.018040   \n",
       "14      14  1.501533e+01 2024-11-26 11:17:23.170008   \n",
       "15      15  9.378110e+01 2024-11-26 11:54:06.414540   \n",
       "16      16 -1.224720e+01 2024-11-26 13:03:01.139970   \n",
       "17      17 -9.802221e+00 2024-11-26 13:11:39.125775   \n",
       "18      18  9.422694e+03 2024-11-26 14:36:15.285087   \n",
       "19      19  5.025258e+02 2024-11-26 14:42:07.665605   \n",
       "20      20 -1.461955e+01 2024-11-26 16:26:37.547503   \n",
       "21      21 -2.115979e+00 2024-11-26 16:40:51.621425   \n",
       "22      22  4.620501e+04 2024-11-26 17:16:00.873363   \n",
       "23      23  8.356456e+02 2024-11-26 19:48:50.470303   \n",
       "24      24  1.045633e+03 2024-11-26 21:53:10.193422   \n",
       "25      25 -2.280748e+01 2024-11-27 00:32:54.203124   \n",
       "26      26  1.602968e+07 2024-11-27 01:07:20.848297   \n",
       "27      27  1.047530e+00 2024-11-27 04:03:25.925158   \n",
       "28      28 -7.402895e+00 2024-11-27 04:45:37.920570   \n",
       "29      29  1.099705e+01 2024-11-27 05:15:20.947078   \n",
       "30      30 -1.487165e+01 2024-11-27 05:47:46.131599   \n",
       "31      31 -3.174124e+01 2024-11-27 07:20:08.429721   \n",
       "32      32 -2.560840e+01 2024-11-27 08:23:56.545976   \n",
       "33      33  1.791922e+06 2024-11-27 10:19:28.864672   \n",
       "34      34 -3.062243e+01 2024-11-27 10:33:52.860587   \n",
       "\n",
       "            datetime_complete               duration  params_dropout_rate  \\\n",
       "0  2024-11-25 19:09:38.225282 0 days 02:07:37.763445             0.016374   \n",
       "1  2024-11-26 00:32:15.038976 0 days 02:15:49.334056             0.335803   \n",
       "2  2024-11-26 01:05:16.072673 0 days 02:48:50.282411             0.341284   \n",
       "3  2024-11-26 02:38:16.167430 0 days 02:06:01.034076             0.292964   \n",
       "4  2024-11-26 03:41:23.810708 0 days 02:36:07.633227             0.018475   \n",
       "5  2024-11-26 04:03:41.026855 0 days 01:25:24.765677             0.020236   \n",
       "6  2024-11-26 06:26:45.606140 0 days 02:45:21.689499             0.204185   \n",
       "7  2024-11-26 04:17:42.916629 0 days 00:14:01.797010             0.174938   \n",
       "8  2024-11-26 07:15:29.225110 0 days 02:57:46.207924             0.402693   \n",
       "9  2024-11-26 10:12:28.123557 0 days 03:45:42.423118             0.042884   \n",
       "10 2024-11-26 10:39:29.067425 0 days 03:23:59.754145             0.387006   \n",
       "11 2024-11-26 10:57:36.921837 0 days 00:45:08.700778             0.490251   \n",
       "12 2024-11-26 11:17:23.053514 0 days 00:37:53.896725             0.471799   \n",
       "13 2024-11-26 13:11:39.022505 0 days 02:14:02.004465             0.274674   \n",
       "14 2024-11-26 11:54:06.332729 0 days 00:36:43.162721             0.486090   \n",
       "15 2024-11-26 13:03:01.053135 0 days 01:08:54.638595             0.410948   \n",
       "16 2024-11-26 14:42:07.532577 0 days 01:39:06.392607             0.321087   \n",
       "17 2024-11-26 14:36:15.083615 0 days 01:24:35.957840             0.449883   \n",
       "18 2024-11-26 16:26:37.359534 0 days 01:50:22.074447             0.352234   \n",
       "19 2024-11-26 16:40:51.523673 0 days 01:58:43.858068             0.357113   \n",
       "20 2024-11-26 17:16:00.785953 0 days 00:49:23.238450             0.435487   \n",
       "21 2024-11-26 21:53:10.092032 0 days 05:12:18.470607             0.433665   \n",
       "22 2024-11-26 19:48:50.382523 0 days 02:32:49.509160             0.279311   \n",
       "23 2024-11-27 01:07:20.760688 0 days 05:18:30.290385             0.304253   \n",
       "24 2024-11-27 00:32:54.111535 0 days 02:39:43.918113             0.383351   \n",
       "25 2024-11-27 04:03:25.824990 0 days 03:30:31.621866             0.305505   \n",
       "26 2024-11-27 04:45:37.825019 0 days 03:38:16.976722             0.254595   \n",
       "27 2024-11-27 05:15:20.858510 0 days 01:11:54.933352             0.231433   \n",
       "28 2024-11-27 05:47:46.034898 0 days 01:02:08.114328             0.356820   \n",
       "29 2024-11-27 07:20:08.329001 0 days 02:04:47.381923             0.367202   \n",
       "30 2024-11-27 08:23:56.448026 0 days 02:36:10.316427             0.475779   \n",
       "31 2024-11-27 10:33:52.769706 0 days 03:13:44.339985             0.326091   \n",
       "32 2024-11-27 10:19:28.725410 0 days 01:55:32.179434             0.296656   \n",
       "33 2024-11-27 12:49:49.595905 0 days 02:30:20.731233             0.318613   \n",
       "34 2024-11-27 12:39:25.920685 0 days 02:05:33.060098             0.324243   \n",
       "\n",
       "    params_epochs  params_flow_layers  params_hidden_dim  \\\n",
       "0               8                   3                 64   \n",
       "1               5                   2                256   \n",
       "2               5                   4                 16   \n",
       "3               7                   4                 64   \n",
       "4               5                   1                 16   \n",
       "5               3                   3                 16   \n",
       "6               8                   5                128   \n",
       "7               7                   4                256   \n",
       "8               8                   1                256   \n",
       "9               9                   5                128   \n",
       "10              9                   4                 32   \n",
       "11              1                   4                 32   \n",
       "12              1                   4                 64   \n",
       "13              6                   4                 64   \n",
       "14              1                   5                 64   \n",
       "15              3                   3                 16   \n",
       "16              3                   2                 64   \n",
       "17              3                   2                 16   \n",
       "18              4                   2                 64   \n",
       "19              4                   3                 16   \n",
       "20              2                   3                 16   \n",
       "21             10                   5                 32   \n",
       "22              6                   4                 64   \n",
       "23             10                   4                 64   \n",
       "24              7                   4                 64   \n",
       "25              7                   4                 64   \n",
       "26              7                   5                128   \n",
       "27              2                   5                128   \n",
       "28              2                   3                 64   \n",
       "29              4                   3                 64   \n",
       "30              4                   4                 64   \n",
       "31              6                   4                 16   \n",
       "32              6                   4                 64   \n",
       "33              6                   4                 64   \n",
       "34              6                   4                 16   \n",
       "\n",
       "    params_learning_rate  params_n_hidden_flow  params_num_gcn_layers  \\\n",
       "0               0.000002                     1                      2   \n",
       "1               0.000003                     4                      1   \n",
       "2               0.000004                     4                      5   \n",
       "3               0.000040                     1                      2   \n",
       "4               0.000093                     1                      5   \n",
       "5               0.000127                     4                      1   \n",
       "6               0.000001                     1                      4   \n",
       "7               0.007500                     5                      5   \n",
       "8               0.000274                     4                      1   \n",
       "9               0.000011                     3                      5   \n",
       "10              0.000116                     5                      5   \n",
       "11              0.000010                     3                      3   \n",
       "12              0.000014                     2                      3   \n",
       "13              0.000012                     2                      3   \n",
       "14              0.000008                     2                      3   \n",
       "15              0.000004                     2                      4   \n",
       "16              0.000017                     2                      4   \n",
       "17              0.000001                     3                      4   \n",
       "18              0.000025                     4                      2   \n",
       "19              0.000005                     4                      2   \n",
       "20              0.000005                     5                      2   \n",
       "21              0.000003                     3                      4   \n",
       "22              0.000034                     1                      3   \n",
       "23              0.000030                     2                      2   \n",
       "24              0.000038                     2                      2   \n",
       "25              0.000042                     1                      3   \n",
       "26              0.000008                     1                      3   \n",
       "27              0.000008                     1                      3   \n",
       "28              0.000001                     2                      4   \n",
       "29              0.000002                     2                      4   \n",
       "30              0.000002                     3                      3   \n",
       "31              0.000003                     3                      3   \n",
       "32              0.000055                     1                      3   \n",
       "33              0.000018                     1                      3   \n",
       "34              0.000002                     3                      3   \n",
       "\n",
       "    params_num_transformer_layers  params_output_dim  params_timesteps  \\\n",
       "0                               2                 64                 3   \n",
       "1                               1                 64                 5   \n",
       "2                               1                 32                10   \n",
       "3                               2                128                 3   \n",
       "4                               1                 64                10   \n",
       "5                               2                128                 8   \n",
       "6                               1                 64                 4   \n",
       "7                               2                 32                 6   \n",
       "8                               2                 64                 4   \n",
       "9                               2                 64                 2   \n",
       "10                              2                128                 2   \n",
       "11                              1                 32                10   \n",
       "12                              1                 32                 8   \n",
       "13                              1                 16                 7   \n",
       "14                              1                 32                 8   \n",
       "15                              1                 16                 8   \n",
       "16                              1                 32                 9   \n",
       "17                              1                 32                 9   \n",
       "18                              1                 32                 9   \n",
       "19                              1                 32                 7   \n",
       "20                              1                 32                 7   \n",
       "21                              1                 32                10   \n",
       "22                              2                128                 6   \n",
       "23                              2                128                10   \n",
       "24                              2                128                 5   \n",
       "25                              2                128                 9   \n",
       "26                              1                 16                 9   \n",
       "27                              1                 16                 9   \n",
       "28                              1                 32                 8   \n",
       "29                              2                 32                 8   \n",
       "30                              2                128                10   \n",
       "31                              2                128                10   \n",
       "32                              2                128                 3   \n",
       "33                              2                128                 6   \n",
       "34                              2                128                 3   \n",
       "\n",
       "       state  \n",
       "0   COMPLETE  \n",
       "1   COMPLETE  \n",
       "2   COMPLETE  \n",
       "3   COMPLETE  \n",
       "4   COMPLETE  \n",
       "5   COMPLETE  \n",
       "6   COMPLETE  \n",
       "7   COMPLETE  \n",
       "8   COMPLETE  \n",
       "9   COMPLETE  \n",
       "10  COMPLETE  \n",
       "11  COMPLETE  \n",
       "12  COMPLETE  \n",
       "13  COMPLETE  \n",
       "14  COMPLETE  \n",
       "15  COMPLETE  \n",
       "16  COMPLETE  \n",
       "17  COMPLETE  \n",
       "18  COMPLETE  \n",
       "19  COMPLETE  \n",
       "20  COMPLETE  \n",
       "21  COMPLETE  \n",
       "22  COMPLETE  \n",
       "23  COMPLETE  \n",
       "24  COMPLETE  \n",
       "25  COMPLETE  \n",
       "26  COMPLETE  \n",
       "27  COMPLETE  \n",
       "28  COMPLETE  \n",
       "29  COMPLETE  \n",
       "30  COMPLETE  \n",
       "31  COMPLETE  \n",
       "32  COMPLETE  \n",
       "33  COMPLETE  \n",
       "34  COMPLETE  "
      ]
     },
     "execution_count": 7,
     "metadata": {},
     "output_type": "execute_result"
    }
   ],
   "source": [
    "import optuna   \n",
    "import pandas as pd\n",
    "\n",
    "study = optuna.study.load_study(\n",
    "            study_name='TRACE_TG',  # Replace with your study name\n",
    "            storage=f\"sqlite:///studies_non_hide/TRACE_TG.db\")\n",
    "study.trials_dataframe()"
   ]
  }
 ],
 "metadata": {
  "kernelspec": {
   "display_name": "traffic-anomaly",
   "language": "python",
   "name": "python3"
  },
  "language_info": {
   "codemirror_mode": {
    "name": "ipython",
    "version": 3
   },
   "file_extension": ".py",
   "mimetype": "text/x-python",
   "name": "python",
   "nbconvert_exporter": "python",
   "pygments_lexer": "ipython3",
   "version": "3.11.3"
  }
 },
 "nbformat": 4,
 "nbformat_minor": 2
}
