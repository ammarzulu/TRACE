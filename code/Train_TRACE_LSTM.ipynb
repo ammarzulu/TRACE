{
 "cells": [
  {
   "cell_type": "code",
   "execution_count": 1,
   "metadata": {},
   "outputs": [
    {
     "name": "stderr",
     "output_type": "stream",
     "text": [
      "/media/vanderbilt/home/zulqarnain/anaconda3/envs/traffic-anomaly/lib/python3.11/site-packages/tqdm/auto.py:21: TqdmWarning: IProgress not found. Please update jupyter and ipywidgets. See https://ipywidgets.readthedocs.io/en/stable/user_install.html\n",
      "  from .autonotebook import tqdm as notebook_tqdm\n"
     ]
    },
    {
     "name": "stdout",
     "output_type": "stream",
     "text": [
      "{'dropout_rate': 0.1258292407047112, 'epochs': 4, 'flow_layers': 1, 'hidden_dim': 32, 'learning_rate': 2.924732238530936e-06, 'n_hidden_flow': 1, 'num_gcn_layers': 2, 'num_transformer_layers': 2, 'output_dim': 128, 'timesteps': 3}\n"
     ]
    }
   ],
   "source": [
    "import torch\n",
    "import torch_geometric\n",
    "from torch_geometric.data import Data\n",
    "import numpy as np\n",
    "import matplotlib.pyplot as plt\n",
    "import pandas as pd\n",
    "import optuna\n",
    "import training\n",
    "import models\n",
    "import metrics\n",
    "from models import SpatioTemporalAutoencoder, TRACE_LSTM\n",
    "from parameters import STAEParameters, TrainingParameters\n",
    "from datautils import get_morning_data, normalize_data, generate_edges, generate_relational_edges, load_best_parameters, get_full_data, label_anomalies\n",
    "from training import save_model, load_model, train_TRACE_LSTM, compute_anomaly_threshold_rstae, test_model, threshold_anomalies, fill_result_df, test_rstae\n",
    "from metrics import calculate_accuracy, crash_detection_delay, calculate_tp_fp, find_thresholds, find_delays, find_percent, discrete_fp_delays, generate_anomaly_labels, calculate_auc\n",
    "import torch.nn as nn\n",
    "from tqdm import tqdm\n",
    "\n",
    "import random\n",
    "import os\n",
    "seed=42\n",
    "torch_geometric.seed_everything(seed)\n",
    "\n",
    "\n",
    "def sequence_stae(data, timesteps, hide_anomalies=False):\n",
    "    sequence = []\n",
    "    relational_edges, relations = generate_relational_edges(milemarkers=list(range(49)), timesteps=timesteps)\n",
    "    static_edges = generate_edges(milemarkers=list(range(49)))\n",
    "    days = data['day']\n",
    "    anomalies = data['anomaly']\n",
    "    data_vals = data[['occ', 'speed', 'volume']]\n",
    "    unix = data['unix_time']\n",
    "    unique_times = np.unique(data['unix_time'])\n",
    "    kept_indices = []\n",
    "\n",
    "    for index, t in enumerate(tqdm(unique_times[timesteps:])): # skip first 'timesteps'\n",
    "        data_t = []\n",
    "        backward_index = range(index-1, index-timesteps-1, -1)\n",
    "        backward_times = [unique_times[i] for i in backward_index]\n",
    "        curr_day = np.unique(data[data['unix_time']==backward_times[-1]]['day'])[0]\n",
    "        contains_anomaly = np.any([np.unique(data[data['unix_time']==i]['anomaly'])[0] for i in backward_times])\n",
    "        is_curr_day = np.all([np.unique(data[data['unix_time']==i]['day'])[0]==curr_day for i in backward_times])\n",
    "\n",
    "        if (hide_anomalies and contains_anomaly) or not is_curr_day:\n",
    "            continue\n",
    "        \n",
    "        kept_indices.append(index+timesteps)\n",
    "\n",
    "        for i in backward_times:\n",
    "            data_t.append(Data(x=torch.tensor(data[data['unix_time']==i][['occ', 'speed', 'volume']].to_numpy(), dtype=torch.float32), edge_index=static_edges)) # assumes time indices come sequentially, with full data it may not\n",
    "\n",
    "        curr_graph = data_t[0]\n",
    "        sequence.append([data_t[::-1], curr_graph])\n",
    "\n",
    "    return sequence, kept_indices\n",
    "\n",
    "hide_anomalies = False\n",
    "optimal_params = load_best_parameters('TRACE_LSTM',hide_anomalies=hide_anomalies)\n",
    "print(optimal_params)\n",
    "training_params = TrainingParameters(\n",
    "    learning_rate=optimal_params['learning_rate'],\n",
    "    batch_size=1,\n",
    "    timesteps=optimal_params['timesteps'],\n",
    "    n_epochs=optimal_params['epochs'],\n",
    ")"
   ]
  },
  {
   "cell_type": "code",
   "execution_count": 2,
   "metadata": {},
   "outputs": [
    {
     "name": "stderr",
     "output_type": "stream",
     "text": [
      "100%|██████████| 10557/10557 [00:44<00:00, 237.52it/s]\n",
      "100%|██████████| 2877/2877 [00:06<00:00, 436.04it/s]\n"
     ]
    }
   ],
   "source": [
    "data, test_data, _ = get_full_data()\n",
    "data = normalize_data(data)\n",
    "data = label_anomalies(data)\n",
    "length = len(data.day.unique())\n",
    "train_length = int(length * 0.8)\n",
    "val_length = length - train_length\n",
    "train_days = data.day.unique()[:train_length]\n",
    "val_days = data.day.unique()[train_length:]\n",
    "\n",
    "# Use .isin() to filter the DataFrame based on the days\n",
    "train_data = data[data.day.isin(train_days)]\n",
    "val_data = data[data.day.isin(val_days)]\n",
    "train_sequence, kept_train_indices = sequence_stae(train_data, training_params.timesteps, hide_anomalies=hide_anomalies)\n",
    "val_sequence, kept_val_indices = sequence_stae(val_data, training_params.timesteps, hide_anomalies=hide_anomalies)\n"
   ]
  },
  {
   "cell_type": "code",
   "execution_count": 3,
   "metadata": {},
   "outputs": [],
   "source": [
    "\n",
    "\n",
    "num_features = 3\n",
    "num_nodes = 196\n",
    "\n",
    "model_params = {\n",
    "    'input_features': num_features,\n",
    "    'num_sensors': num_nodes,\n",
    "    'hidden_dim': optimal_params['hidden_dim'],\n",
    "    'num_transformer_layers': optimal_params['num_transformer_layers'],\n",
    "    'output_dim': optimal_params['output_dim'],\n",
    "    'num_gcn_layers': optimal_params['num_gcn_layers'],\n",
    "    'flow_layers': optimal_params['flow_layers'],\n",
    "    'n_hidden_flow':optimal_params['n_hidden_flow'],\n",
    "    'dropout_rate':optimal_params['dropout_rate'],\n",
    "\n",
    "    \n",
    "}\n",
    "using_pretrained = False"
   ]
  },
  {
   "cell_type": "code",
   "execution_count": 4,
   "metadata": {},
   "outputs": [
    {
     "name": "stderr",
     "output_type": "stream",
     "text": [
      "  0%|          | 0/4 [00:00<?, ?it/s]/media/vanderbilt/home/zulqarnain/anaconda3/envs/traffic-anomaly/lib/python3.11/site-packages/torch/autograd/__init__.py:200: UserWarning: CUDA initialization: Unexpected error from cudaGetDeviceCount(). Did you run some cuda functions before calling NumCudaDevices() that might have already set an error? Error 804: forward compatibility was attempted on non supported HW (Triggered internally at /opt/conda/conda-bld/pytorch_1682343970094/work/c10/cuda/CUDAFunctions.cpp:109.)\n",
      "  Variable._execution_engine.run_backward(  # Calls into the C++ engine to run the backward pass\n",
      " 25%|██▌       | 1/4 [03:27<10:21, 207.02s/it]"
     ]
    },
    {
     "name": "stdout",
     "output_type": "stream",
     "text": [
      "Epoch number 0 last 100 loss -545.9162335205078\n"
     ]
    },
    {
     "name": "stderr",
     "output_type": "stream",
     "text": [
      " 50%|█████     | 2/4 [06:55<06:56, 208.16s/it]"
     ]
    },
    {
     "name": "stdout",
     "output_type": "stream",
     "text": [
      "Epoch number 1 last 100 loss -653.2728094482422\n"
     ]
    },
    {
     "name": "stderr",
     "output_type": "stream",
     "text": [
      " 75%|███████▌  | 3/4 [10:26<03:29, 209.43s/it]"
     ]
    },
    {
     "name": "stdout",
     "output_type": "stream",
     "text": [
      "Epoch number 2 last 100 loss -709.3453857421875\n"
     ]
    },
    {
     "name": "stderr",
     "output_type": "stream",
     "text": [
      "100%|██████████| 4/4 [14:02<00:00, 210.67s/it]"
     ]
    },
    {
     "name": "stdout",
     "output_type": "stream",
     "text": [
      "Epoch number 3 last 100 loss -774.3556768798828\n"
     ]
    },
    {
     "name": "stderr",
     "output_type": "stream",
     "text": [
      "\n"
     ]
    },
    {
     "data": {
      "image/png": "[encoded data removed]",
      "text/plain": [
       "<Figure size 640x480 with 1 Axes>"
      ]
     },
     "metadata": {},
     "output_type": "display_data"
    }
   ],
   "source": [
    "\n",
    "\n",
    "if not using_pretrained:\n",
    "    model, losses= train_TRACE_LSTM(model_params, training_params, train_sequence,verbose=True)\n",
    "    save_model(model, f'TRACE_LSTM_{hide_anomalies}_{seed}' )\n",
    "    plt.plot(losses)\n",
    "\n",
    "else:\n",
    "    # model=TRACE_LSTM(**model_params)\n",
    "    model = load_model(TRACE_LSTM,model_params,f'TRACE_LSTM_{hide_anomalies}_{seed}')\n",
    "    \n",
    "\n",
    "    "
   ]
  },
  {
   "cell_type": "code",
   "execution_count": 5,
   "metadata": {},
   "outputs": [],
   "source": [
    "\n",
    "thresh = training.compute_threshold_f_gtnf(val_sequence,model , 'max')"
   ]
  },
  {
   "cell_type": "code",
   "execution_count": null,
   "metadata": {},
   "outputs": [],
   "source": []
  },
  {
   "cell_type": "code",
   "execution_count": 6,
   "metadata": {},
   "outputs": [
    {
     "name": "stderr",
     "output_type": "stream",
     "text": [
      "100%|██████████| 4797/4797 [00:13<00:00, 345.86it/s]\n"
     ]
    }
   ],
   "source": [
    "_, df_test_data, _ = get_full_data()\n",
    "test_data = normalize_data(df_test_data)\n",
    "test_data = label_anomalies(test_data)\n",
    "test_data, kept_test_indices = sequence_stae(test_data, training_params.timesteps, hide_anomalies=False)"
   ]
  },
  {
   "cell_type": "code",
   "execution_count": 7,
   "metadata": {},
   "outputs": [
    {
     "name": "stderr",
     "output_type": "stream",
     "text": [
      "100%|██████████| 4787/4787 [00:18<00:00, 262.62it/s]\n"
     ]
    }
   ],
   "source": [
    "test_errors=training.test_f_gtnf(test_data, model, verbose=True)\n"
   ]
  },
  {
   "cell_type": "code",
   "execution_count": 8,
   "metadata": {},
   "outputs": [
    {
     "name": "stderr",
     "output_type": "stream",
     "text": [
      "/media/vanderbilt/home/zulqarnain/freeway-anomaly-detection/code/metrics.py:18: SettingWithCopyWarning: \n",
      "A value is trying to be set on a copy of a slice from a DataFrame.\n",
      "Try using .loc[row_indexer,col_indexer] = value instead\n",
      "\n",
      "See the caveats in the documentation: https://pandas.pydata.org/pandas-docs/stable/user_guide/indexing.html#returning-a-view-versus-a-copy\n",
      "  test_data.loc[(test_data['unix_time'] - human_label_time <= 1800) & (test_data['unix_time'] - human_label_time >= 0), 'anomaly'] = 1\n",
      "/media/vanderbilt/home/zulqarnain/freeway-anomaly-detection/code/metrics.py:28: SettingWithCopyWarning: \n",
      "A value is trying to be set on a copy of a slice from a DataFrame\n",
      "\n",
      "See the caveats in the documentation: https://pandas.pydata.org/pandas-docs/stable/user_guide/indexing.html#returning-a-view-versus-a-copy\n",
      "  test_data.fillna(0, inplace=True)\n"
     ]
    }
   ],
   "source": [
    "# Compute true anomaly labels\n",
    "anomaly_labels = generate_anomaly_labels(df_test_data, kept_test_indices)\n",
    "\n",
    "# Whether a crash was reported at each time\n",
    "crash_reported = df_test_data['crash_record'].to_numpy()[0::196][kept_test_indices]"
   ]
  },
  {
   "cell_type": "code",
   "execution_count": 9,
   "metadata": {},
   "outputs": [
    {
     "name": "stderr",
     "output_type": "stream",
     "text": [
      "100%|██████████| 10000/10000 [05:02<00:00, 33.03it/s]"
     ]
    },
    {
     "name": "stdout",
     "output_type": "stream",
     "text": [
      "Found FPR of 0.011494252873563218 for 0.01\n",
      "Found FPR of 0.024220032840722498 for 0.025\n",
      "Found FPR of 0.05090311986863711 for 0.05\n",
      "Found FPR of 0.10016420361247948 for 0.1\n",
      "Found FPR of 0.19950738916256158 for 0.2\n",
      "FPR 1% gives mean delay of 8.0 +/- 0.0 while missing 0.9166666666666666%.\n",
      "FPR 2.5% gives mean delay of -4.5 +/- 9.495613022162743 while missing 0.75%.\n",
      "FPR 5% gives mean delay of -0.5625 +/- 9.50801471128437 while missing 0.33333333333333337%.\n",
      "FPR 10% gives mean delay of -8.444444444444445 +/- 5.31478255248951 while missing 0.25%.\n",
      "FPR 20% gives mean delay of -11.666666666666666 +/- 4.089281382128432 while missing 0.25%.\n"
     ]
    },
    {
     "name": "stderr",
     "output_type": "stream",
     "text": [
      "\n"
     ]
    }
   ],
   "source": [
    "path_results = 'saved_results/TRACE_LSTM/'\n",
    "results = metrics.discrete_fp_delays_nll(thresh, test_errors, anomaly_labels, crash_reported)\n",
    "\n",
    "# Check if the directory exists, and create it if it does not\n",
    "if not os.path.exists(path_results):\n",
    "    os.makedirs(path_results)\n",
    "\n",
    "# Save the results to a CSV file\n",
    "results.to_csv(f'{path_results}results_{hide_anomalies}_{seed}.csv', index=False)"
   ]
  },
  {
   "cell_type": "code",
   "execution_count": 10,
   "metadata": {},
   "outputs": [
    {
     "data": {
      "text/plain": [
       "0.6240332765715908"
      ]
     },
     "execution_count": 10,
     "metadata": {},
     "output_type": "execute_result"
    }
   ],
   "source": [
    "calculate_auc(test_errors,anomaly_labels)"
   ]
  }
 ],
 "metadata": {
  "kernelspec": {
   "display_name": "traffic-anomaly",
   "language": "python",
   "name": "python3"
  },
  "language_info": {
   "codemirror_mode": {
    "name": "ipython",
    "version": 3
   },
   "file_extension": ".py",
   "mimetype": "text/x-python",
   "name": "python",
   "nbconvert_exporter": "python",
   "pygments_lexer": "ipython3",
   "version": "3.11.3"
  }
 },
 "nbformat": 4,
 "nbformat_minor": 2
}
